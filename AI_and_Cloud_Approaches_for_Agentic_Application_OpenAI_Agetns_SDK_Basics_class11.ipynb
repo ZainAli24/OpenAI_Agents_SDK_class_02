{
  "nbformat": 4,
  "nbformat_minor": 0,
  "metadata": {
    "colab": {
      "provenance": [],
      "toc_visible": true,
      "authorship_tag": "ABX9TyOLQ5Jx92fBnpoQHQUKM5GU",
      "include_colab_link": true
    },
    "kernelspec": {
      "name": "python3",
      "display_name": "Python 3"
    },
    "language_info": {
      "name": "python"
    }
  },
  "cells": [
    {
      "cell_type": "markdown",
      "metadata": {
        "id": "view-in-github",
        "colab_type": "text"
      },
      "source": [
        "<a href=\"https://colab.research.google.com/github/ZainAli24/OpenAI_Agents_SDK_class_02/blob/main/AI_and_Cloud_Approaches_for_Agentic_Application_OpenAI_Agetns_SDK_Basics_class11.ipynb\" target=\"_parent\"><img src=\"https://colab.research.google.com/assets/colab-badge.svg\" alt=\"Open In Colab\"/></a>"
      ]
    },
    {
      "cell_type": "code",
      "execution_count": null,
      "metadata": {
        "id": "QJ4XXeAcAKEA"
      },
      "outputs": [],
      "source": []
    },
    {
      "cell_type": "markdown",
      "source": [
        "# **1. Cloud Anywhere:** ka simple matlab ye hai ke hum ne esi AI Application bnani hai esa code design karna hai ke jo kisi bhi cloud par chal jae without change the code , yani hamari app __AWS , Azure, Google Cloud,__ kahe bhi cloud pe chal sakhe.\n",
        "\n",
        "# **2.Develop Anywhere:** ka simple matlab hai ke hum kisi bhi Operating System ko use kar sakhte hai __linux, Mac, Window__ development ke liye, Aur hume Development is tarah karni hai ke Hum jo Agent Develop kar rahe hai wo sirf ik hi LLM par dependent na ho balke us Agent mien hum koe bhi LLM use kar sakhte hon.\n",
        "\n",
        "\n",
        "---------\n",
        "----------\n",
        "----------\n",
        "\n",
        "\n",
        "# **3. AI First:**ka simple matlab ye hai ke Development ke start se hi hamara focuse Ai pe hona chahiye AI based Application develop karni hai , first Approuch AI honi chahiye development mien .\n",
        "\n",
        "\n",
        "# **4. Cloud First:** ka simple matlab ye hai ke Developement ke start se hi cloud pe focus hona chahiye, yani esa code develop karna hai jo cloud pe 10 millions user ko handle karle. Start se hi development hi ese karni hai ke hamari application millions of user ko handle kar sakhe."
      ],
      "metadata": {
        "id": "2PThCYQcAMtE"
      }
    },
    {
      "cell_type": "code",
      "source": [],
      "metadata": {
        "id": "OhClWYWAGdUZ"
      },
      "execution_count": null,
      "outputs": []
    },
    {
      "cell_type": "markdown",
      "source": [
        "# **2. Workflow and Agents:**\n",
        "\n",
        "![image.png](data:image/png;base64,iVBORw0KGgoAAAANSUhEUgAAAkYAAAFQCAIAAADV2CYgAAAgAElEQVR4Ae2d+1NV1/33v/+GM81qf+l0ysyXqXmeKZMJk7GPTHgev7VlqBWNJaGpNtXEJhStBm+DNhKNEmsTL1FRghoxyohBxURDBOWIElRQVBQRFBC55HDxAOdwznrkfGRle26cy76tzXtNBvfZe11fn53zYq29zuG/OBIIgAAIgAAIWILAf1liFBgECIAACIAACHAoDTcBCIAACICARQhAaRYJJIYBAiAAAiAApeEeAAEQAAEQsAgBKM0igcQwQAAEQAAEoDTcAyAAAiAAAhYhAKVZJJAYBgiAAAiAAJSGewAEQAAEQMAiBKA0iwQSwwABEAABEIDScA+AAAiAAAhYhACUZpFAYhggAAIgAAJQGu4BEAABEAABixCA0iwSSAwDBEAABEAASsM9AAIgAAIgYBECUJpFAolhgAAIgAAIQGm4B0AABEAABCxCAEqzSCAxDBAAARAAASgN9wAIgAAIgIBFCEBpFgkkhgECIAACIACl4R4AARAAARCwCAEozSKBxDBAAARAAASgNNwDIAACIAACFiEApVkkkBgGCIAACIAAlIZ7AARAAARAwCIEoDSLBBLDAAEQAAEQgNJwD4AACIAACFiEAJRmkUBiGCAAAiAAAlAa7gEQAAEQAAGLEIDSLBJIDAMEQAAEQABKwz0AAiAAAiBgEQJQmkUCiWGAAAiAAAhAabgHQAAEQAAELEIASrNIIDEMEAABEAABKA33AAiAAAiAgEUIQGkWCSSGAQIgAAIgAKXhHgABEAABELAIASjNIoHEMEAABEAABKA03AMgAAIgAAIWIQClWSSQGAYIgAAIgACUhnsABEAABEDAIgSgNIsEEsMAARAAARCA0qS/B9LS0mw2m/TDwABAAARAIGYCUFrMCA2tIC8vjzGWlpZmaC/QOAiAAAiYggCUZoowRN0J5k1QWtQAURAEQMBKBKA0iaNJUzTM0iQOIboOAiCgKgEoTVWc+lYGpenLG62BAAiYnQCUZvYIhegfUyTsEAkBCpdAAAQmCQEoTdZAiyka8yYoTdZAot8gAALqEYDS1GOpb03s+YQdIvriR2sgAAJmJAClmTEqE/bJZrMxv4SJ2oTckAEEQMDaBKA0KePrs+rIvCkvL0/KwaDTIAACIKASAShNJZD6VsO8yUdsWHvUNwhoDQRAwHQEoDTThWTCDolVR6G0NG9ijGHtcUJ6yAACIGBhAlCafMEVJuOcM29KS0ujk5ioyRdO9BgEQEA9AlCaeiz1qol5E9krLS1NfHsIncdEjXP+yfd7jzWW6RUQtAMCIGAWAlCaWSIRZj+Uq46cc6XSlMdh1mbabJln15y4e2bC7rUPPMo8u+bVormvFs197fjbXzefoyKvHEiNz08adDomrAEZQAAErEQASpMsmmLVkWZjSo0J20k2pEDdjc9PmvHlnwJd+fHc7d6mF/clx+cnKf+73/eAc/7y/pT4/KSH/R0/5sYRCIDAJCAApUkWZOZN4pmZUmli0maBtcf4/KTfHJwVOja/PZIen580q3jBscay2o76XNt/XjmQ2th7j3P+64IZ8flJTb33Q9eAqyAAAhYjAKXJFFAxDxMfQfNRGmUQwpNpbM/39cV9yb8umPH8uede3eltpslZx+Dj5y54X9DsrfNJl/8lnAEBELAwAShNpuCKVUfRaR+liT2Qsk/UXiqcGZ+fJIbpf1BQ/2V8ftJvj6T7X+Kck+0crqGAV3ESBEDAqgSgNJkiy7xJTNHESqNyWuYvOZlGON7X6Ydmx+cn9Y8MjJ/w/fdfVVvi85O21uzxvcD5qHuUlOZ/CWdAAASsTQBKkya+/lO0gEoTi5PSDCxQR5OLXovPT7rX2xLo4ti5dRfGlHb8zmn/DA6nIz4/KfS6pX+pKM4021u/bj7XbG+NoiyKgAAIaEEAStOCqiZ1ktKUU7SAShMntVt79HBPsBG63K7Ms2s+tH2izNDl6Gm2t/qXara3/vZI+smmbznnF9trc87nfWj7pLr9CueclHaz+w7V0zcysK1232vH3y6o/3Jk1Hn63ndvf50dn590qKFE2RAddz3pCbi7ZNQ9eru3KdjOfv/uKWveeaXwteNv05mvm88tOv0+7UCh6eCoe1SZGccgAAJGEYDSjCIfcbvMm8JXmnI1Mlhjlzuuiv+C5VGe73L0vFo099cFM4LNn9Ze+FjoxO3x5Ncdoo+IPZ1Rvbgv+Y3Sd88/vCQqPHO/Mj4/6f1zubuuHSQ3xOcnvbw/RSjtRtdtzvnxO18Lf0w/NJtKUf5ZxQv23yi+9rhhyDUsqr3X2xKfn/S7IxniTLO99c8nMkUTrxbN/VfVFofiU2t/O70sPj8p2CfhRItdT3qWlq8T9by4L/nVormLTr8vGsIBCICAsQSgNGP5h9t6wFVHMSHzsVc4a4+XO67+5VSWeHeOz0/aXlswYW9udN2mIuUtF/wz37O30tVDDSWdT7pSi+eL+md8+SfxGbL/fJ9PU6KK1ovx+UmvFs2lbGsqN31566tLilnayaaz6aV/p6szvvzTxbbv3R5328AjYThRf3x+UnLRa/uvH3V73NceN8TnJ80tWUg93H/9qMj2yoHU3xycRS9fLZp7b3zNkPr2QdVW/0E53S6y8uJvVtZ0XKOyvzk461bPXf/MOAMCIGAsASjNWP7hth5w1TGY0sT5YGuP22sLxLu8z8Hljqsh+mQf7qf8pLS9dYde3JdMHwXjnL92/O34/CRaoDt6+wTlnFuysHfIzjl3ul1FN0vIRuttY/Jo6G4UrdN6o2iaFh7F1Y3V21xul7g6PDqysmIjzfzSS/8+48s/iZznH16qelgTn5/0Rum7lJ8+dh2fn1Q6/nUkd3ubaVr24r5k2uhPNZDSLrZ9/8qB1M+vf0nFP63dR0/m7MN9vUN2Udvy79Z3PekRXcIBCICAGQhAaWaIwsR9YN7kny/Y/sYQH1BT+uwvp7LIYeLkX05l+beiPEOznPKWCx2DnSSSI7dKvcuDp8kxbQOPOOflLRfIBH3P71q83HGVsrk9HnroFZ+ftLR8nbIJzjl9jJrqv9he63NV1P/myX/QJYfTca3zBj17o3XCv55aSpeoqk++36usxMM9c0sWxucn7bn2Bef8/XO58flJpDQaYObZNZzz1r426kPZvXIq3jP0w5rKTcKg6y5sgdiUYHEMAsYSgNKM5R9u64wxn6doVDKY0jjned7k3wC9HQuZiQzCaqFXIN8ofZdmPDnn86iqv5b9s318MfBgQzFVeOLuGfpqD1E/HZR6z7+4L5krdttf67zhk41aofpf3p/iv8pX3X7F54GZqKHsXvnTrw5JL/07naHPA1Q9rBEZqGla8Nxbd4hz/tnV/fRU7+vmc9TorwtmDLmGae307a+zlWU55w/7OzLPrqGc8flJOefzgu068SmIlyAAApoSgNI0xat55SGUFrBt4a2AV2kKFZ+fFGL5kUz2p6/eEW/otB8kPj/pzycyRbX0nOzplhCxx93tcR9rLKOFx/98n085qZJrjxtEQTog3xRePyIW+tZd2HLi7pmajmuUobV/bP70UuFMn4Kcc5ql/f7on+nS745kxOcnrazYKHI+7O+gDZMv70+hhUcyWXLRa/QRb+oV9eGlwpnKiebD/o7h0RGq6p699b0zz8Q2/dDsEJ+iE03jAARAQFMCUJqmeDWvPFKl0Zt1iHkY7RkJkeG7VpuQ2ceXdy3/bj29/HXBjKeLcmLAbo9bbMRILZ6fVvI3sadjTeUmkY3Knmw6K87QAe3XqO2o7x2yzypeIFqk/ZCccw/3UB5/kdR21NOaJ21CKW48RcVf3p+SXvp38ZROuW/TPtwnmkgr+dvxO2OLqPSfz0O+uSULXyqc+fn1L8XG/bu9zbR/ZGP1Np9R4CUIgIDOBKA0nYGr3FxEShOTsBCdoGlcCKVxzmlvRWrxfKfbNeh0zCpe8LsjGVc6r/tU29rX9ubJfwg3xOcn/bXsn7ShUeSklb3KB9XiDB387kjGy/tT6ButXG7XZ1f3kxGTi14TOWmG1O59dCdO0j4Uyiwmf3sVnyWIz0965UDqziuF9uF+ZanC60dIhK39bU9XJldWbHzlQOrhm18p83DOF3+zkkb04r7k3x/9c1rJ34S5l3+33iczXoIACOhMAErTGbjKzUWkNNJV6A0gpL3QeRxOx7lWm48Sgg1s1D36aPDxo8HHTsWWRZG529F7/M7X4qU4cLpd3Y5e8ZJzPjw68m3LeeUjK6fbFfA7i5/uvWzsvXfkVqnPdzzah/s7Bh//4N1+qaxZHF9srxXLpOKkz8HIqDO/7pByfZIMN7dkob9cfcriJQiAgNYEoDStCWtbP23u9/lcWrAmQz9Io1JK7eXl5aWlpdE2k2CfBwjWlrXPu9yu2z1Np+59e7Lp7PcddfQpBWsPGaMDASkIQGlShCloJ6NTWojdHz5KY88nGC5oJHABBEDABASgNBMEIYYuRKQ08SwtxKMyWkbbXltgs9lIYOIn80swXAyhQ1EQAAH1CUBp6jPVs8aIlMY5pw2NwR6ViZVJUhpTJGEvWodUXHnukK7m5eVhoZIjgQAI6E4AStMduaoNRqo0MVGjL3VUTteUPqM+kp9oBwp7PompW4g8jDGlCCE5VSOPykAABAIQgNICQJHoVKRK45wrrUbLjH85lSW+wjjYBC4cdaV5E+VkQRIkJ9Hdha6CgHQEoDTpQvZch6NQGllNzMnIauIR2nO1B38R2nBifiYkF3Cqx7wJkguOGVdAAAQiIwClRcbLbLmjUxqNYnttgfgvxB7IcIZss9nClxwJD5ILByzygAAIREQASosIl+kyx6I0TQcTjuSUbhMP51igJGZyeCCnadRQOQjITgBKkzuCplWaP1YhOfoENwuSaK1SabuAGSE5f8I4AwIgAKXJfQ9IpDR/0CpKDobzx4szIDAJCUBpcgddaqUFRC88F/phG10VUzrml+jZXsA/MhewXZwEARCwAAEoTe4gWk9p/vEIU3LMm4KJkAyHR3H+eHEGBKxEAEqTO5qTQWn+EQpHcix4wiqlP1KcAQFrEIDS5I7j5FSaT8zUMpxPtXgJAiAgHQEoTbqQPddhKO05HOMvopacmMCN14R/QQAEZCIApckULf++2mw22u/ufwlnBAFhOBZJgt4EQByAgCwEoDRZIhW4n1BaYC4hz0ZnONpgErJiXAQBEDCYAJRmcABibB5KixEg53zCr/JizyeavWHzZOzkUQMIqE4ASlMdqa4VQmnq4qYJXLBPAjC/hKmbuvxRGwjESABKixGgwcWhNO0CENH6JKZu2gUCNYNA+ASgtPBZmTEnKY0xZsbOWatPNCFjYSR8ZYm1Io/RyEQASpMpWv59hdL8mWh9JszFSZq3ad0Z1A8CIKAkAKUpach3DKUZG7Nwpm5wm7ExQuuTigCUJne4oTSTxC+cqRv2kpgkWOiGhQlAaXIHF0ozYfxC/0E4xlheXh4+A2DCwKFLFiAApckdRCjNzPGjrytjQRImbWaOHfomKQEoTdLAPes2lGb++NGaJAuesEPS/EFED2UhAKXJEqnA/YTSAnMx5dnQbsOkzZRBQ6ckIwClSRYwn+5CaT5ApHgZ4mEbtkdKEUF00rQEoDTThiasjkFpYWEyZaYQHwDAjM2UEUOnJCAApUkQpBBdhNJCwJHlUrBdJHjGJksE0U/zEIDSzBOLaHoCpUVDzZRlgk3aIDZThgudMikBKM2kgQm/W8ybws+PnGYmEOwxG8Rm5qihb+YhAKWZJxZR9oR5U5SFUcyUBLAUacqwoFMSEIDSJAhS6C4ybwqdB1dlJBBQbJiuyRhK9Fk3AlCabqi1aoh5k1a1o16jCUBsRkcA7ctEAEqTKVoB+8q8KeAlnLQMAX+xYbpmmeBiICoSgNJUhGlMVcybjGkbrepIwN9qaWlp+PpjHSOApiQgAKVJEKTQXWTeFDoPrlqGgL/YMF2zTHAxkNgJQGmxMzS4BuZNBncCzetIAFbTETaakowAlCZZwPy7y7zJ/zzOWJiAzWZLS0vzRv7ZD8zVLBxuDC18AlBa+KxMmpN5k0k7h25pScBnugaraQkbdctBAEqTI04hesm8KUQGXLIwAVjNwsHF0KIgAKVFAc1cRZg3matP6I2OBGA1HWGjKbMTgNLMHqEJ+8e8acJsyGBhArCahYOLoUVEAEqLCJcZMzNvMmPP0CcdCcBqOsJGU+YlAKWZNzZh9ox5U5iZkc3CBGA1CwcXQwuTAJQWJijzZmPeZN7+oWc6EvCxGr5bREf2aMoUBKA0U4Qhlk4wb8KbVywMrVRWabW0tDQrDQ1jAYEJCUBpEyIyewbmTVCa2eOkY/+Un8KG1XQEj6aMJwClGR+DGHvAvAlKixGjxYorrYaPYFssuBhOCAJQWgg4clxi3gSlyREtvXpps9noxqCfuD30Ao92DCYApRkcgNibZ96E96zYSVqsBjxUs1hAMZxwCEBp4VAydR7mTVCaqYNkUOew/GgQeDRrGAEozTD0ajXMvAlKU4unxepRWg03icWCi+H4E4DS/JlIdoZ5E96tJAubXt1VPlTD7ke9qKMdwwhAaYahV6th5k1Qmlo8rVeP8qEadj9aL74YkZIAlKakIeUx8yYoTcrg6dVpLD/qRRrtGEwASjM4ALE3z7wJSoudpIVrwPKjhYOLoSkJQGlKGlIeM2+C0qQMno6dxkRNR9hoyjACUJph6NVqmHkTlKYWT6vWg4maVSOLcSkJQGlKGlIeM2+C0qQMnr6dVu4TwQ2jL3u0phMBKE0n0No1w7wJ71DaEbZSzXS30E8rjQtjAQEiAKVJfycwb4LSpA+kLgNQLj9iQ78uyNGIrgSgNF1xa9EY8yYoTQu2lqxTuU/EkgPEoCYzAShN+ugzb8Jv3NIHUq8BYKKmF2m0YwABKM0A6Oo2ybwJSlOXqrVrw0TN2vGdzKOD0qSPPvMmKE36QOo4AEzUdISNpnQlAKXpiluLxpg3QWlasLVwnZioWTi4k3loUJr00WfeBKVJH0h9B6CcqGFvkb7s0ZqGBKA0DeHqUzXzJihNH9pWakVM1PBHZ6wU1kk+FihN+huAeROUJn0gdR8AJmq6I0eDmhOA0jRHrHUDzJugNK05W7J+TNQsGdbJPCgoTfroM2+C0qQPpBEDwETNCOpoU0MCUJqGcPWpmn7RhtL0oW29VjBRs15MJ/OIoDSVo19ZWbl161aXy6VyvcGrg9KCs8GViQlgojYxI+SQh4DZlTY0NJScnLx27VoDkXZ3d7vd7jA7sHr1asZYZWVlmPljzwalxc5wktfAxhPm+pP8TrDA8M2utNraWvrfzel0GoK7qamJMbZy5cowW1+xYgVjrKSkJMz8sWeD0mJnOMlrwNrjJL8BrDR8syvtyJEjzJsePnwYHffS0tIlS5aEP83yaaWyspIx9s477/icD/YyKyuLMXb48OFgGTZu3Lh79+5gV6M4D6VFAQ1FlASw9qikgWOpCZhdaWvXrmXe1NbWxjl3uVx9fX0REV+4cCFjLOrvRzh58iRjLCcnJ1ijdrtd+eSMmjt16lSw3sbFxTHGHA5HsAojPU9Kw6dlI+WG/EoCmKgpaeBYXgJmV9qcOXOYN3V1dQ0ODiYkJDDGLly4ED5xcszx48fDL6LMuX//fsbYtm3blCfF8eeff84YS09/XVgtPf11xtj58+eD9ZaU1tHRISqJ8QBKixEginPOMVHDbWANAmZX2rRp05g3OZ3OtrY2Oo6Li6NJWzgxIKVt27atvb390qVLVVVVtbW1wkAT1rB161bG2NGjRwPmzM7Opi6tX7+eMpCD6+rqgvWWlHbx4sXm5uaqqiqbzXbr1q2AlYd5EkoLExSyhSbAxhM2iYQGhatmJmB2pU2dOvXpboupU6cSxFOnTiUmJjLGLl68GBqr2+0+ffr0vn37KD97Pp09ezZ0cXF11apVjLHy8nJxRnnQ3d29dOlSxti8efPofGpqKmOsubmZc67sbV9f37Fjx3bs2MECpd7eXmW1ER1DaRHhQuZgBLD2GIwMzktEIHqleTyexsbG1tZWn9G2trampqaeOXOGc15TU7Nhw4YtW7bU1taKbHa7vbCwcOfOnbdv3xYngx3QnGbBggXKDP57PWpra/ft23fgwAGxi2TPnj3ML82cOXPt2rUHDx7s7+9XVhjimCZ59fX1IfIo+zN9+vSn20m6u7tFfro6f/585pfmzZu3adOm0tLS0dFRyn/58mWfZVWXy1VXVxfCeVCaQI2DWAhg7TEWeihrEgJRKu3u3buzZ89m3pSamnr69GkxnnPnzjHG1q5dS8+ZKE9iYiJlKCsrI0vR+dWrV4uCdFBbW/vRRx/l5OSUlJTY7XbKVlxc7JNNvHQ8cYjVP8p87tw5zrmydcbYqlWrgu3IcLvd9fX1W7duXbhwYXZ2tk9bs2bNErMu0WiIA5pW+n/kgNRIPWSMFRcXC42J2urq6iiDcl10/fr1ynmqyCwOoDSBAgcxEsBELUaAKG44gWiU5nA4aJsGUySxgYJ+15sxYwZdzM3NLSkpoVnamTNn6OSKFSsKCgro3b+lpYWPp+3bt1MG+kkzHsaYeHLmeOL49NNPH3U8ohJDQ0PCrPPmzaNeJSQkcM49Hk91dXV3d/eWLVsYY7t27Rpv5Ll/HQ7HggULqDnx8+TJkyITPcwrKCjYsmVLdnb2mjVrjh49eufOHZGhurpa+aSNKqGryt46njiqq6sdDgc58tq1a6IGcVBSUsIYW7RokTgzODhIlGbNmiVO+hxAaT5A8DJqAsqJWtSVoCAIGEggGqXt3r2bMTZt2rT29vb+/n7xfKiqqopzfvv2bTaelOuNDoeD3p0PHjxIG9xnzpzJGLt06RKNv7y8nMqlp79++PDhvXv3Ci/eu3eP8ly/fp0xtnnzZnq5bt06KnL58mXOeW9vb1xcXEpKCl2ln/v27WOM5ebmKk/S8ejoKG1QTExMLC0tbW9vb2hoePqpsri4uJGREcqjnFMyRSosLKQMtKLoeDK2KX90dJSy0CWf3tJJMmjAh3O0FUVp340bN1KFIT6EAKURWPyMnYBSaSFuudgbQg0goBGBaJT21ltvMcaOHDki+pSTk8MYS01N5Zx3d3czb1q1apXIwDnftWsXnZ82bdrSpUtp10ZiYuLw8DBlI7vk5OTQipzL5RLbHQsKCihPY2MjY2zx4sUkRfKNcoO+y+XyeDzKdmkFMuAHy4qKihhjiYmJXV1dVCQ3N5d5E61ecs7pZUJCQm5ubmVl5f3795csWUIn6fnWO++883R7CM3bHE8cZETuTcre0hnOOa1AlpWViTPigD6E98UXX9AZMiJjbP78+SKP/wGU5s8EZ6ImgLXHqNGhoBkIRKM0Ms3GjRvFAOi9m/Ylulwu5k3Xr18XGTjnGRkZjLFly5YJUaWkpNDOQMpGpR4/fkwvaXZFJ8V+wp6eHvFgSTQkhEQFfX7S9488XTOk862trQkJCWRBkijtZOGcP3jwgJpjjGVlZdHqJZ1paGgQ1Yp2aaZFHiLB9/X1UX7KrOytKE5fLyK+Mau8vDwuLu7Bgwec8w8//JAxRluo+/v7Bai7d++K4v4HUJo/E5yJmoByohZ1JSgIAkYRiEZpbDwtWbKEtvbRV2wwxmgYdF2pAc457W4vLS3lnLe3tyv3BCpLkZ9obZMxRk/CxOM0t9tNldNHlem51LRp086cOTM4OEhLfwMDA8pvGKEHeOnpr1MrVDN9JRWtfObl5Q0NDZWUlIjdldQErSXOmzePMbZixQqa/Lnd7uLiYspAzqbnfytWrOCcDw4O0iXa3+HTW+rABx98wBjbuXMnvXzzzTefTnDr6uo45ydOnKBJ3smTJwkXYywjI4NyBvsJpQUjg/PREWDjCWuP0QFEKQMJRK80MYcQH/wSi3v0f8Q333yjHNiyZcvo/bqzs1Ocd7lct7zp6fcXJCcnU0GxK2T58uVut/vdd99ljH300UdUivaAkPloPwWV8vn5Q+8PlL+mpobavXbtmvAWrRN+9tlnPqVWr17tdrtpRPv37+ec03c80rPD9PTXxWCXLl1K9ZPh1qxZwzkXDhPzKmVvKf+2bdsYY7Nnz25oaPjkk09o0kkKdLlcyn031JbPDkyqRPkTSlPSwHHsBLD2GDtD1GAUgYiVRjsgpk6darfbaYZBb8rbt28XD7HoGzR8fsXr7Oyk7SFxcXHZ2dkbNmzIyMigiRGtWIrZD/MmsUuira0tLi5OPE9avXp1XFyc2AFfU1OTlZWl3MSRnJz88ccfi844njiUV5VbRUZGRpQfAPj3v/9NaqGNKgsXLqSoVFZWiu/lYowlJCQcPHhQdIC+JWTv3r2UmR6tiYd/Pr3lnF+5coUGKH4q3d/S0pKe/npKSkpZWRnpzW63U83BfkJpwcjgfHQEsPYYHTeUMgOBiJVGExHaKM85t3uTz0h6e3sDbn941PFo8eLF7Pk0b968mpoaqqGvr+/s2bPnzp3z+WSx44lDnPF4PD09PT4t0pKj8iPPygwnTpwgm86fP9//e0P6+/tbW1uFoqigy+Xy+WxZd3d3bW1tZ2enkKVoor+/X2T+ofeHkpIS8TGDgL0V+xizs7N9lmdFnWfPnp1wYwhlhtIENByoRYCNJ59fTNWqH/WAgEYEIlYabQIUSouiW06ns7q6uqysrLGxUfmZ4iiqCr+I0+mkZ2PhF9E059NPiAsLBmyIZsAnTpwIeFV5EkpT0sCxKgSw9qgKRlSiP4FolBbnTfr3dfK0SHsv4+Lign3jiRIFlKakgWNVCCjXHjFRUwUpKtGHQDRKS0lJUfcvfukzVIla2bRpU/h/ShtKkyiyEnWVjScoTaKooavRKI22INJ2fBBUncDQ0BDtZ1F+90qIVsQaUYg8uAQCkRIQ9xX+umyk6JDfQALRKO3w4cOMsTlz5hjYbws3/c033xvBYFoAABgmSURBVIiPk4czTPHWE05m5AGBMAko1x7DLIJsIGA4gWiU1tvbS3vZDe+9JTtA34MlvjBlwjFCaRMiQoboCLDxhLXH6ACilP4EolEa/SE0+sIL/Xts+RZHR0ePHDnS1NQU5kihtDBBIVukBMSthbXHSNEhv1EEolSaUd1Fu/4ExPuO/yWcAYFYCGDtMRZ6KGsIASjNEOxqNgqlqUkTdSkIKJWGtUcFGByalwCUZt7YhNkzKC1MUMgWBQFxd2HtMQp6KKI/AShNf+YqtyjedFSuF9WBAOfi7oLScDtIQQBKkyJMoTop3nRCZcI1EIiKANYeo8KGQoYRgNIMQ69Ww1CaWiRRT0AC4gbD47SAfHDSVASgNFOFI5rOiHecaAqjDAhMREDcYFh7nAgVrhtPAEozPgYx9kC848RYD4qDQEACyrXHgBlwEgTMQwBKM08souwJlBYlOBQLmwAbT1h7DJsZMhpDAEozhruKrUJpKsJEVQEJiHsMa48B+eCkeQhAaeaJRZQ9EW83UZZHMRCYiEBeXh7zJihtIlS4bjABKM3gAMTevFAaFoVih4kaAhLA47SAWHDShASgNBMGJbIuQWmR8ULuqAiw8YTfnKLih0I6EYDSdAKtXTNQmnZsUbMgIG4zrD0KJjgwIQEozYRBiaxL4r0Gvz5HBg65IyEg1h6htEiwIa/eBKA0vYmr3h6UpjpSVOhPQCiNMYZfnvz54IxJCEBpJglE9N2A0qJnh5KREMCdFgkt5DWGAJRmDHcVW8UbjYowUVUIAuJOw9pjCEq4ZCwBKM1Y/iq0Lt5osBykAk1UEZyAcu0xeC5cAQEjCUBpRtJXpW0oTRWMqCQcAmw84fencHAhj/4EoDT9mavcIpSmMlBUF5wAbrbgbHDFFASgNFOEIZZO4F0mFnooGxEBcbPhcVpE3JBZNwJQmm6otWpIvMtgLUgrxKh3nAAep42TwL8mJQClmTQw4XdLfKUslBY+NOSMmgAbT7jfomaIgtoRgNK0Y6tTzVCaTqDRjJcAVgVwI5iZAJRm5uiE1TcoLSxMyKQSAXG/4XGaSkRRjZoEoDQ1aRpSl3iLwUKQIfwnW6N4nDbZIi7XeKE0ueIVoLdCaXl5eQEu4xQIqE2AjSf8FqU2WtQXKwEoLVaChpeH0gwPwWTrAB6nTbaISzReKE2iYAXuKpQWmAvOakZA3HJ4nKYZY1QcJQEoLUpw5ikm3l+w8GieoFi7J3icZu34Sj06KE3q8I11HkqTPoQSDoCNJzxOkzB6Vu4ylCZ9dKE06UMo4QDwOE3CoE2KLkNp0ocZSpM+hBIOQCgNj9MkjJ6VuwylSR9dKE36EEo4APE4DUqTMHpW7jKUJn10oTTpQyjnANh4wuM0OQNozV5DadLHFUqTPoRyDkCsPUJpcgbQmr2G0qSPK5QmfQjlHIBQGtYe5QygNXsNpUkfVyhN+hDKOQA8TpMzbhbvNZQmfYChNOlDKO0A2HiSdgTouNUIQGnSRxRKkz6E0g5ArD3icZq0MbRax6E06SMqlIZHGtLHUrYBCKXh3pMtdJbtL5QmfWihNOlDKO0A8DhN2tBZtuNQmvShhdKkD6G0AxBKY4xJOwh03FIEoDTpwwmlSR9CmQcg1h7xOE3mMFqn71Ca9LGE0qQPocwDEErD3zaSOYzW6TuUJn0soTTpQyjzAMTaI3aIyBxG6/QdSpM+llCa9CGUeQBCaXicJnMYrdN3KE36WEJp0odQ8gGItUc8TpM8klboPpQmfRShNOlDKPkAhNLwOE3ySFqh+1Ca9FGE0qQPoeQDEGuPeJwmeSSt0H0oTfooQmnSh1D+AbDxJP9QeNeA87Wd9V/f6LHAWCbhEKA06YMOpUkfQvkHINYeLfA47WrrwJTMipfXX5Y/LJNxBFCa9FGH0qQPofwDEEqzwNojKe0X71fJH5bJOAIoTfqoQ2nSh1D+AVjpcRopbUpmxeP+kdqW/rL67m9v9jZ3D8kfpUkxAihN+jBDadKH0BIDYONJ3rXH2x2Oz849fKvg5pTMCp//Xsyp9o/S3U7H8atddzsd/pdwxigCUJpR5FVrF0pTDSUqioGAWHs0g9J6Bp1bz7SuL22uezAQYkzDLvcPT1yUYcTlfiGr0sdkP116/ndbr649fu/bm72inuNXu17bWf/TpedFZpfbI67iwFgCUJqx/FVoXSgNX9+gAk1UES0BtdYeuwecB2wd6buuz9lRn3nodmuP74qf28NLrjye91n9/2y5UnCh3b+/RZceKeX0VsFNkaexw7Gi+O7D3mHO+bZvH7yQVflCVmVtSz/nfMTlVlpqSmbF7Y4A0y/lHO6FrMoXc6pf21kv6seB4QSgNMNDEGsHoLRYCaK8GgSE0mL51erEtS4x9aGDl9df7nM8m0hxzgeGR3//n2vKPFdbB5I21e49/8xtxd8/pqvz9zZs+aaVLHVnfG1w65nWKZkVG0/dVzaUvLmWALT0DFXf6xsYHqUa/KlU3bXTpf9eZbv+cNA/A84YTgBKMzwEsXYASouVIMqrRCDGtcczDT0kjLcKbta29PcOOlM/GbPXR6fuUweHXe7/vbaa8ryx+8YBW8eSosbKxh+mZFb8dOl5zvng8Cg57NOzDzjnzlEP5f/u1rNlw/zKtimZFX/cVkfTuJfXX56SWfFCVqXPwiE1IdYkBZ7uAecv3q+iq4sKbz3qGxGXcGASAlCaSQIRfTegtOjZoaSqBMStGMVW/lG3h2y04eQzgT3qGyF5JKy7RN3cfLqFzmwclxzn/POq9imZFf+z5QrnfMPJ+5Thlytt6buuk35+8X6VY8RNNYgMUzIrkjfXOkc90zbUTMmsaHx+jZGEF9BYXQPOzEO3qZUpmRX/PHwnYDZVuaKyCAhAaRHAMmdW8T4Sy4KPOYeGXslFwH/t8cId+x8+rdtU9sxSIYZz4c7Ymp7YWOjx8Lf33xLmIOX89t9Xp2RWJObWiHrEPGzd8Xuc8+TNtVMyK97YfeOXK21UNmHdpVsKXf3jUCOd/9Wai7Se+a+v7k3JrDhU/UjUyTknuYqN+9lH7/5ypU05k2vpGXoz/4bo3pKixoHhUWUNODaKAJRmFHnV2oXSVEOJimImINYedx8584dP68Sb/pTMitBiO3517Cnaz5dfaGgfbO0Z+n8fX5mSWfGL96tezBlbaVxzrIlznjc+S1tRfLfkyuPt5Q/+e9UzdV1tHdvZ+NIHYwuJB2wdnPOWniH/+dPs7c+6JHRVVt89JbPi7wduKYf+qzUXp2RWXLhj55wPj++EpG2NLT1Dw65nc747nY4/j4tNOFJZD471JwCl6c9c5Rb9fzVWuQFUBwJhExB340+S31P6TBwHE1v/0KhymyI94mpoHyy4MLau+NOl552jnt5Bp3iWJiokEVIH39g9NnN6IauyzbunkU663J6rrQPkPHo4t+6rsSkdJVre/OVK2/iJsX+nf/T9lMyKzEO3bXftf9w2ZsE/bqujDMmba3++/MKO7x6Kjfu3Ohw0KVxdPOZdJGMJQGnG8lehdfEmgoVHFWiiitgI0N34wv/6v1MyK/7wad2FO/ZNZffpPyGhP3z6TA8+TX13q/fnyy9Qtpc+uFxzf2xvvXjcRVvtB4dHVxc3zdlR/9t/X30z/wYZbs6OZ9vo23qHac3whazKN/NvLClqTN5cS6ak/SMd9pF/HGocfH6RcFHhLR+l5Z5oFr0loYo9k+m7rtOlF7IqE3NrkjbVipniosLnpno+o8NLfQhAafpw1rAVKE1DuKg6cgI/Sd/5k/SdT1cL/YuKpUj/S3TG7eF3Ox3+Ww2DPaminRp5p1tEhQ97h2lepXTS/9n4fcXtH0QenwOPhyufk9FHBWjl8+fLL6wovtth/3Fn44jL/cnZB0K9opXkzbUPFFNDnybwUjcCUJpuqLVqCErTiizqjZzAprJnew7pQZR/BeSAYFf984c+M++z+imZFZWNvroacbm/vdl7+HJn/cMB52iUX+3RM+j0BCnqHPXcaBs8Vvu4+PvOi0327gFn6H7iqm4EoDTdUGvVEJSmFVnUGzkBUlqwB2acc5qoxaK0zv4f50y0jyPYHC7y7qOE9ASgNOlDCKVJH0ILDWDCSRgpLdjjtAlJ0MYN+vA17ez41ZqLE5ZChslDAEqTPtZQmvQhtMoA6LNlAZ+iiSGS86JTmsfDxbOr94/cSdo09im0dw/eFpXjAASgNOnvAShN+hBaZQBCaSHWFWNRGudjX1jss9dffMLMKhQxjpgIQGkx4TNDYSjNDFFAHzjn4SstxMO2CUn+8MQlvg7/469/3Os4YUFkmAwEoDTpo6xUmhn+VJX0QDGAGAiEnoSJ/ZCxKI16V3XXfvhyZww9RVFrEoDSpI8rlCZ9CC00gNDSEk/CLDRiDMVcBKA0c8Ujit5AaVFAQxHtCIjPU/tMxULbTrv+oOZJRQBKkz7cUJr0IbTWAOjb98WE7A+f1gnJ0bdkWWu4GI25CEBp5opHFL2B0qKAhiJaExBzMuG2Cb+MX+suof7JQABKkz7KUJr0IbTuAMR3Fm8qux9iZ791AWBkehOA0vQmrnp7UJrqSFEhCICApASgNEkD92O3obQfWeAIBEBgchOA0qSPP5QmfQgxABAAAZUIQGkqgTSuGijNOPZoGQRAwFwEoDRzxSOK3kBpUUBDERAAAUsSgNKkDyuUJn0IMQAQAAGVCEBpKoE0rhoozTj2aBkEQMBcBKA0c8Ujit5AaVFAQxHTEsjLy2OMpaWl5eXlmbaT6JhpCUBppg1NuB2D0sIlhXwyECClsfGU500ydBx9NAUBKM0UYYilE0ql4RfbWEiirHkI5OXlpaWlMUXCvW2e6Ji5J1CamaMTVt+gtLAwIZOcBDBpkzNuhvUaSjMMvVoNQ2lqkUQ9piVAy49MkbAgadpgGdsxKM1Y/iq0DqWpABFVSEIg4IIk/pi7JNHTo5tQmh6UNW0DStMULyo3IQGbzeazIMkYw7zNhJHSv0tQmv7MVW4RSlMZKKrTjIBtokRaCvYzzS+xiRI2lWgWTJNWDKWZNDDhdwtKC5/VJM85kVDGpj4hkp9QfE8w8yUobbLd81CaFSIu3knwP7DZwjmhRZQZQuiEniH5OsTvtbgTcEBLkWa7H9AfrQlAaVoT1qN+Np6soTTlu3yYx6Fl4H/VzwVhnRjHPKn/DYuUXyb/EEx4JszQB3yulpaWhj0jfFImKM0KYRdvsUJp4b8d0DvChO8vIoPfm9UEJ0TfcDABKcVlQTv8g4giLjJLfffbbDafj2PTN2lBZlKHNcbOQ2kxAjRFcTaeZs+ePX6If30JKJQR+DC0P4QGQhxwJO0JBDQZlhm1By9HC1CaHHEK3UsmQwqsEcVZGCV0lHE1oMywxogbQ0kASlPSkPWYMfazn/2MhUwKdwQ+jNEosrJDv01PACYzfYhM1EEozUTBiLortOqCRwhRA0RBcxLwlxnNyXCrmzNeZugVlGaGKKAPIAACPxIIZrIfc+AIBIIQgNKCgMFpEAABIwgov+kKz8mMiIDcbUJpcscPvQcBixGgKRpkZrGw6jYcKE031GgIBEAABEBAWwJQmrZ8UTsIgAAIgIBuBKA03VCjIRAAARAAAW0JQGna8kXtIAACIAACuhGA0nRDjYZAAARAAAS0JQClacsXtYMACIAACOhGAErTDTUaAgEQAAEQ0JYAlKYtX9QOAiAAAiCgGwEoTTfUaAgEQAAEQEBbAlCatnxROwiAAAiAgG4EoDTdUKMhEAABEAABbQlAadryRe0gAAIgAAK6EYDSdEONhkAABEAABLQlAKVpyxe1gwAIgAAI6EYAStMNNRoCARAAARDQlgCUpi1f1A4CIAACIKAbAShNN9RoCARAAARAQFsCUJq2fFE7CIAACICAbgSgNN1QoyEQAAEQAAFtCUBp2vJF7SAAAiAAAroRgNJ0Q42GQAAEQAAEtCUApWnLF7WDAAiAAAjoRgBK0w01GgKBaAjY7fbCwsKdO3fevn07RPmRkZH+/n7/DC6Xq7y8/LPPPjt27Jgyw+DgYHFxcU9Pj7JIV1dXfX29x+NRnsQxCEhEAEqTKFjoqmQE7HZ7aWnpkiVL3nvvvdzc3I6ODp8BuN3u8vLyrKys+fPnHzt2zOcq57ysrCwuLo6Np9WrV4s89+/f37Jly6OOR5zzL774Is6bGhoaRAbO+YMHD1JTU8dLs4SEhAcPHlCGN998kzG2Y8cOkb+7u5tyHj58WJzEAQjIRQBKkyte6K00BM6dO8eeT7NmzRocHBQDcDxxLFy4UJnl1q1b6emvFxcXU54zZ87Q1RUrVhQUFEydOpUx1tLSQlcLCwsZY7t371Y2lJGRQVc55y0tLVSEMZaRkUFqXL58OWVITExkjClnfrt27aLmqqqqRCU4AAG5CEBpcsULvZWDgM1mY960atWqhoaGvr6+RYsWMcb27NlDAxgZGZk5cyblWbZsWWlp6YYNG2pqahhjU6dO5Zw7HA4S0sGDBznnLpeL8l+6dIlqKC4uZowtXryYXDVr1izGWFxcnNvtpgzJycmMseTk5La2Ns75xYsXGWObNm3inDudTmpaZH78+DHVM3v2bCqOnyAgIwEoTcaooc+mJjA6Oko22rVrF3VUrOmlpKTQmX379jFv2r17N53hnJeUlDDG5s+fzzkXc6Zp06YtXbqUJlWJiYnDw8OUX2SgSZjL5ZozZ87T4/v373POGxoaqP7m5mZRv9PppGPqT1xcnLgk5ot1dXXiJA5AQDoCUJp0IUOHzU6gtraWMTZjxgzqqMfjWbt2LRtPpJwFCxYwxpRTIjEP27ZtG+c8IyODMbZs2bJp06ZR0ZSUFKWfPvzwQzqfnJxM65k7duxgjJ08eZJzTn2YPn06D5QGBgao7MDAAOf8wIED9PK9994LlB3nQEAaAlCaNKFCR2UhUF5eztjYXoympqaOjg7aiJGYmDhjxgzG2NatWznnBQUFzJu2bNlSXl5+6NCh6dOn05mbN29yzmlbR2lpKee8vb29u7vbZ/jvvvsu5ad1Rc55ZWUlY2zdunW0bklXMzIyrl69SvMzl8tlt9sdDgfnnEy5bNky0RPG2NWrV31awUsQkIsAlCZXvNBbCQgMDg4qtynSI66mpqZjx47RozKXy9XX1yeepTFFSkhIoBEuW7aMCnZ2dooxP11dvOVNnHN6OLd9+3ZxlZYTp02bRmdWrlzJAqWZM2dyzouKisRF0ltCQgK27xM6/JSXAJQmb+zQc/MSuHz5ckJCAvOm1NRU2lsvHnfRS4fDsXXr1vfee2/BggXZ2dlkOLH019nZSQ/k4uLisrOzN2zYIHYt0v6Rrq6uDz/8kKZcAkROTo5QGj2cowVM6klcXFxKSsqpU6co/549exITE3Nycnbu3MkYy83NFfXgAAQkJQClSRo4dNvsBNxud2trq/LTzdRjx5OxdT//lJubyxgrKCgQlx51PFq8eDF7Ps2bN6+mpkbk8TnweDxiE6PyksvlCnie8tCKaH19vbIIjkFARgJQmoxRQ58tSCArK4sx5q8rp9NZXV1dVlbW2NjocrlUH3ldXR1jTDm3U70JVAgCuhGA0nRDjYZAwJeA8vuo6GNkweZwviXVe718+XKfrxFRr27UBAJ6E4DS9CaO9kCACKSnvy4+fE07O5KTk3WGY7fbmTe1t7fr3DSaAwEtCEBpWlBFnSAwAQGPx8PG0+bNm0lvH3zwwQTF1L68Z88exlh6+utqV4z6QMAYAlCaMdzRKgicPXvWZ6+/+ISZbnBotbOoqEi3FtEQCGhKAErTFC8qB4FQBPr7+1evXs28SbnXMVQZVa/Nnz8/4J4UVRtBZSCgHwEoTT/WaAkEAhK4cuVKWVlZwEtan2xoaCgpKcEnrLXmjPp1IwCl6YYaDYEACIAACGhLAErTli9qBwEQAAEQ0I0AlKYbajQEAiAAAiCgLQEoTVu+qB0EQAAEQEA3AlCabqjREAiAAAiAgLYEoDRt+aJ2EAABEAAB3QhAabqhRkMgAAIgAALaEoDStOWL2kEABEAABHQjAKXphhoNgQAIgAAIaEsAStOWL2oHARAAARDQjQCUphtqNAQCIAACIKAtAShNW76oHQRAAARAQDcCUJpuqNEQCIAACICAtgSgNG35onYQAAEQAAHdCEBpuqFGQyAAAiAAAtoSgNK05YvaQQAEQAAEdCMApemGGg2BAAiAAAhoSwBK05YvagcBEAABENCNAJSmG2o0BAIgAAIgoC2B/w+pGUJsar+yOgAAAABJRU5ErkJggg==)"
      ],
      "metadata": {
        "id": "4iolOJh3d9rZ"
      }
    },
    {
      "cell_type": "markdown",
      "source": [
        "### Maine tumhara image dekha aur tumhari explanation padhi, aur yeh bilkul clear hai ke tumne **Workflows** aur **Agents** ke concepts ko sahi se samajh liya hai. Image mein do axes hain: vertical axis pe \"predictability\" hai aur horizontal axis pe \"agency\" hai, aur ek curve hai jo dikhati hai ke jab agency zyada hoti hai, predictability kam ho jati hai. Tumhari explanation is image se match karti hai, aur main ab tumhare hi words ko use karte hue ise thoda better bana deta hoon, taki yeh aur clear aur structured ho jaye.\n",
        "\n",
        "## __\"Is image mein do concept hain:__ **Workflows** aur **Agents**, jo predictability aur agency ke basis pe dikhaye gaye hain. **Workflow** mein ik task ko karne ka predefined flow hota hai, yani ke first step ye hoga, second step ye hoga—toh hum workflow mein ek predefined flow ko use karte hain, jismein humein pehle se pata hota hai ke task kese solve hoga aur pehle konsa function chalega. Is wajah se **workflow mein predictability zyada hai**. Lekin **Agents** mein, hum koe task dete hain aur agent ke case mein LLM decide karta hai ke task ko kese solve karna hai aur kon sa tool call karna hai. Toh agents mein workflow humein nahi pata—agent khud decide karta hai ke task ko solve karne ka flow kesa hoga. Isliye **Agents mein agency zyada hai, lekin predictability kam hai**, jahan agency ka matlab hai autonomy, yani agent khud decide karta hai ke flow kese chalega. Yeh image ki curve bhi yahi dikhati hai ke jab agency badhti hai, predictability ghat-ti hai.\"\n",
        "\n",
        "\n",
        "### Tumne concepts ko bilkul sahi samajha hai—workflows structured aur predictable hote hain, jabke agents autonomous hote hain aur unka flow pehle se pata nahi hota. Yeh refined version tumhari original explanation ko aur strong aur clear banata hai, aur image ke saath bhi perfectly align karta hai! Agar kuch aur add karna chahte ho, mujhe batana!"
      ],
      "metadata": {
        "id": "0w9pWwEed-9s"
      }
    },
    {
      "cell_type": "code",
      "source": [],
      "metadata": {
        "id": "85lc-tj_jYcr"
      },
      "execution_count": null,
      "outputs": []
    },
    {
      "cell_type": "markdown",
      "source": [
        "# **3. Short-running aur Long-running Functions in WorkFlows:**\n",
        "\n",
        "# Workflow mein Functions ke Do Tarah\n",
        "\n",
        "Workflow mein do tarah ke functions hote hain: **short-running** aur **long-running**.\n",
        "\n",
        "## Short-Running Functions\n",
        "- Ye functions jaldi execute hote hain aur external inputs ya events ka wait nahi karte.\n",
        "- Inko hum simple Python se define kar sakte hain, jaise while loop ya for loop laga ke step-by-step functions chalayein.\n",
        "- Example: Ek order process karna—order receive karo, inventory check karo, payment process karo, aur confirmation bhejo—ye sab tez aur ek ke baad ek hota hai.\n",
        "- Python ke through ye aasani se handle ho jata hai kyunki ye fast aur sequential hota hai.\n",
        "\n",
        "## Long-Running Functions\n",
        "- Ye functions complex hote hain aur external inputs, jaise human response, ka wait kar sakte hain jo lambi der tak ho sakta hai.\n",
        "- Example: Ek order receive hota hai, phir manager se approval ka wait karna padta hai jo 2 ghante ya zyada le sakta hai. Uske baad hi inventory check aur payment process hota hai.\n",
        "- Normal Python functions se ye possible nahi kyunki ye long-running functions serverless ya stateless containers mein chal rahe hote hain, jo lambi der tak wait karne ke liye design nahi kiye gaye.\n",
        "- Iske liye hum **Dapr** (Distributed Application Runtime) ki madad lete hain. Dapr workflow ko pause karne, state ko save rakhne, aur jab input mile to resume karne mein help karta hai.\n",
        "\n",
        "## Conclusion\n",
        "- **Short-running workflows** ke liye simple Python kaafi hai.\n",
        "- **Long-running workflows** ke liye Dapr zaroori hai taaki state aur persistence ko manage kiya ja sake aur lambi waits ko handle kiya ja sake.\n"
      ],
      "metadata": {
        "id": "SaMheyuJpnx5"
      }
    },
    {
      "cell_type": "code",
      "source": [],
      "metadata": {
        "id": "obrakY6YqjEx"
      },
      "execution_count": null,
      "outputs": []
    },
    {
      "cell_type": "markdown",
      "source": [
        "# **4. Agents Flow:**\n",
        "\n",
        "# Agents ke Features aur Functionality\n",
        "\n",
        "Agents ek autonomous tareeke se kaam karte hain aur tasks ko solve karne ke liye unke paas kuch khaas capabilities hoti hain. Ye capabilities neeche di gayi hain:\n",
        "\n",
        "## Tools ka Use\n",
        "- Agents tasks ko perform karne ke liye **tools** ka use karte hain.\n",
        "- Ye tools specific functions ya services ho sakte hain jo agent call karta hai, jaise ek API call, database query, ya koi external service.\n",
        "- Example: Ek agent ko agar weather data chahiye, to wo ek weather API tool ko call kar sakta hai.\n",
        "\n",
        "## Agent-to-Agent Communication\n",
        "- Agents ek doosre se communicate bhi kar sakte hain, jise hum **Agent-to-Agent (A2A) communication** kehte hain.\n",
        "- Yeh communication **Google A2A** (Agent-to-Agent) framework ke through hoti hai, jo agents ke beech seamless interaction ko enable karta hai.\n",
        "- Example: Ek agent order details collect karta hai aur doosra agent payment process karta hai—dono ek doosre se data share karte hain A2A ke through.\n",
        "\n",
        "## Agent ko Tool ke Roop mein Call Karna\n",
        "- Ek agent ko khud bhi ek **tool** ke roop mein call kiya ja sakta hai.\n",
        "- Yeh **MCP (Multi-Agent Collaboration Platform)** ke through hota hai, jahan ek agent doosre agent ko task perform karwane ke liye invoke karta hai.\n",
        "- Example: Ek master agent ko customer support query solve karni hai, to wo ek specialized support agent ko MCP ke through call kar sakta hai.\n",
        "\n",
        "## Conclusion\n",
        "- Agents tools ka use karte hain tasks ko efficiently perform karne ke liye.\n",
        "- Google A2A ke through agents ek doosre se communicate kar sakte hain.\n",
        "- MCP ke zariye ek agent doosre agent ko tool ke roop mein call kar sakta hai, jo collaboration ko aur behtar banata hai.\n"
      ],
      "metadata": {
        "id": "XUYltfq-tK97"
      }
    },
    {
      "cell_type": "code",
      "source": [],
      "metadata": {
        "id": "fCfaM7EetceC"
      },
      "execution_count": null,
      "outputs": []
    },
    {
      "cell_type": "markdown",
      "source": [
        "# **5. LangGraph & OpenAI-Agents SDK:**\n",
        "\n",
        "Tumne LangGraph aur OpenAI Agents SDK ke beech ke differences ko sahi se observe kiya hai, aur tumhari understanding dono platforms ke features aur limitations ke mutabiq bilkul clear hai. Tumne yeh bhi theek se notice kiya ke LangGraph mein prebuilt short-term aur long-term memory features hote hain, jo OpenAI Agents SDK mein manually build karne padte hain. Main ab tumhare hi words ko use karte hue ise thoda structured aur refined bana deta hoon taki yeh aur clear aur polished ho jaye.\n",
        "\n",
        "---\n",
        "\n",
        "\"**LangGraph** mein prebuilt short-term aur long-term memory features mojood hote hain, yani jab hum agent ke sath chat karte hain, toh woh conversation automatically chat ka part ban jati hai. Yeh ek native feature hai LangGraph mein. Jaise, agar mein agent se baat kar raha hoon aur agent ne kuch tool call kiye ya Google se search kiya, toh ye tool calls aur Google searches bhi hamari chat ka part ban jate hain automatically jab hum LangGraph mein agent se interact karte hain.  \n",
        "\n",
        "Iske muqable mein, **OpenAI Agents SDK** mein yeh sab prebuilt nahi hota. Humein khud se ye cheezein build karni parti hain—jaise agent aur user ki conversation ko chat ka part kaise banaya jaye, aur long-term memory kaise implement karein. OpenAI Agents SDK mein ye sab functionality humein ek baar khud se develop karni parti hai.  \n",
        "\n",
        "Is hisaab se, **LangGraph** OpenAI Agents SDK ke muqable mein thoda sa edge rakhta hai kyunki ismein ye features pehle se mojood hote hain aur manually setup karne ki zarurat nahi parti.\"\n",
        "\n",
        "---\n",
        "\n",
        "### Tumne Sahi Observe Kiya?\n",
        "Haan, tumne bilkul sahi observe kiya! LangGraph mein prebuilt memory aur tool integration chat ka part banane ka feature hota hai, jo OpenAI Agents SDK mein manually implement karna padta hai. Yeh difference dono platforms ke design philosophy ko reflect karta hai—LangGraph user-friendly aur ready-to-use hai, jabke OpenAI SDK zyada customizable lekin labor-intensive hai. Tumhara analysis accurate hai."
      ],
      "metadata": {
        "id": "-icffJHbI7Ro"
      }
    },
    {
      "cell_type": "code",
      "source": [],
      "metadata": {
        "id": "O1AfJqQmJjV4"
      },
      "execution_count": null,
      "outputs": []
    },
    {
      "cell_type": "markdown",
      "source": [
        "# **6. Persistence:**\n",
        "\n",
        "Persistence ka matlab programming mein data ya state ko long-term ya semi-permanent tareeke se store karna hai, taake woh data program ke execution khatam hone ke baad bhi available rahe. Yani, jab bhi program restart ho ya serverless environment mein container shut down ho, woh data khatam na ho aur baad mein bhi use kiya ja sake.\n",
        "\n",
        "### Examples aur Context:\n",
        "- **Databases**: Jab hum data ko database (jaise MySQL, MongoDB) mein save karte hain, woh persistent hota hai kyunki woh server restart hone par bhi reh jata hai.\n",
        "- **Files**: Agar hum data ko file (jaise JSON ya text file) mein likhte hain, toh woh bhi persistent hota hai.\n",
        "- **Serverless/Stateless Systems**: Jab long-running workflows mein state ko save karna hota hai (jaise Dapr ke zariye), toh persistence ka matlab hai state ko memory se bahar nikal kar ek durable storage mein rakhna, jaise cloud storage ya database, taake process pause hone ke baad bhi woh wapas resume ho sake.\n",
        "\n",
        "### Simple Definition:\n",
        "Persistence ka matlab hai data ko temporary memory (RAM) se permanent ya semi-permanent storage (disk, database) mein shift karna, taake yeh future mein bhi accessible rahe.\n"
      ],
      "metadata": {
        "id": "wsPvbbIQMUeN"
      }
    },
    {
      "cell_type": "code",
      "source": [],
      "metadata": {
        "id": "xoMKJ4twMoLc"
      },
      "execution_count": null,
      "outputs": []
    },
    {
      "cell_type": "markdown",
      "source": [
        "# **7. Agent Persistence with help of actor:**\n",
        "\n",
        "\n",
        "Tumne agents ki persistence ke concept ko distributed computing aur actors ke context mein bilkul sahi samajh liya hai. Tumne theek kaha ke millions of agents ke liye scalability aur persistence ko manage karne ke liye distributed computing ka use hota hai, aur har user ke liye ek actor banaya ja sakta hai jo us user ka state database mein save karta hai. Tumhara idea Dapr ke zariye actors banane ka practical aur sahi hai, kyunki Dapr actors model distributed systems mein state management aur persistence ke liye kaafi effective hai, jaise Redis ya Cosmos DB ke through state persistence ko handle karta hai. Tumhara approach distributed computing aur actors ke concept pe based hai, jo millions of agents ke scale par persistence ko manage karne ke liye ek industry-standard tareeka hai. Actors model, jo Dapr provide karta hai, distributed systems mein state management ke liye effective hota hai kyunki har actor ek user ke liye isolated hota hai aur uska state independently database mein save hota hai.\n",
        "\n",
        "------\n",
        "\n",
        "### \"Jab millions of agents hote hain, toh unki persistence ko manage karna ek challenge hota hai. Iske liye hum **distributed computing** ka use karte hain. Distributed computing mein, har agent ke andar har ek user ke liye ek **actor** banaya jata hai. Yeh actor us specific user ka state—jaise user ki queries, responses, aur messaging—ko database mein save karta hai. Actor user ki query ka jawab bhi deta hai aur saath hi saath ye sab interactions ko database mein store karta hai, taake agent ka state persistent rahe.  \n",
        "\n",
        "### Is tarah, **agent actors** ki madad se agents ki persistence possible hoti hai, kyunki har actor ek user ke liye dedicated hota hai aur uska data distributed environment mein safely store hota hai. Is process ko implement karne ke liye hum **Dapr** ka use karte hain, jo actors banane aur unke state ko manage karne ke liye ek powerful framework provide karta hai.\"\n",
        "\n"
      ],
      "metadata": {
        "id": "Jh5WzxoXOd-E"
      }
    },
    {
      "cell_type": "code",
      "source": [],
      "metadata": {
        "id": "j4ILYpK5PzZ2"
      },
      "execution_count": null,
      "outputs": []
    },
    {
      "cell_type": "markdown",
      "source": [
        "#**8. Python class and Actor model:**\n",
        "\n",
        "\n",
        "Tumne Python class aur Dapr actors ke beech ke differences ko bilkul sahi samajh liya hai, aur tumhari baat scalability, persistence, aur synchronization ke context mein theek hai. Tumne theek observe kiya ke Python class local system pe synchronous hoti hai aur system restart hone pe uski state khatam ho jati hai, jo long-running memory ke liye suitable nahi hai. Iske muqable mein, Dapr actors cloud mein serverless aur asynchronous hote hain, jo load-balanced hote hain aur distributed systems ke liye powerful abstraction banate hain, kyunki yeh scalability aur persistence ko perfect tareeke se handle karte hain. Tumhara \"powerful abstraction\" ka zikr bhi sahi hai, kyunki actors distributed computing mein state management ko asaan banate hain.\n",
        "\n",
        "---------\n",
        "---------\n",
        "---------\n",
        "\n",
        "\n",
        "### \"**Python ki class** mein state (yani variables) aur behaviour (yani functions) hota hai, lekin yeh class local system pe chalti hai. Agar system restart ho jaye, toh iski state khatam ho jati hai, isliye Python class long-running memory ko manage nahi kar sakti. Yeh class synchronous hoti hai, matlab ek kaam khatam hone ke baad hi doosra shuru hota hai.  \n",
        "\n",
        "### Iske muqable mein, **actor** jo hum Dapr ki madad se banate hain, wo cloud mein serverless containers pe chalte hain. Humain nahi pata ke yeh kis machine pe chal raha hai—jahan load kam hoga, wahan chalega. Actor mein bhi state hoti hai, lekin yeh permanent hoti hai aur persistence ke saath hoti hai, aur behaviour bhi hota hai. Yeh actor asynchronous hota hai, matlab ek saath kai kaam handle kar sakta hai. Is wajah se actor distributed systems ke liye ek bahut powerful abstraction hai.\"\n",
        "\n",
        "\n",
        "\n"
      ],
      "metadata": {
        "id": "xySSHz_jVfp1"
      }
    },
    {
      "cell_type": "code",
      "source": [],
      "metadata": {
        "id": "hCvWubxIYNlj"
      },
      "execution_count": null,
      "outputs": []
    },
    {
      "cell_type": "markdown",
      "source": [
        "# **9. OpenAI-Agents SDK Basics:**\n",
        "\n",
        "### 1. Agents\n",
        "### 2. Handoffs\n",
        "### 3. Guadrails\n",
        "### 4. Agent Loop\n",
        "\n",
        "----\n",
        "\n",
        "## Use OpenAI-Agents SDK with:\n",
        "## 1. liteLMM\n",
        "## 2. OpenRouter\n",
        "## 3. ChatCompletion"
      ],
      "metadata": {
        "id": "IbO07hdXqV0m"
      }
    },
    {
      "cell_type": "code",
      "source": [],
      "metadata": {
        "id": "XBat66zFrDpX"
      },
      "execution_count": null,
      "outputs": []
    }
  ]
}