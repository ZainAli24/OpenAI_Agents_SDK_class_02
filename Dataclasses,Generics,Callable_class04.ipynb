{
  "nbformat": 4,
  "nbformat_minor": 0,
  "metadata": {
    "colab": {
      "provenance": [],
      "toc_visible": true,
      "authorship_tag": "ABX9TyM2DOBkm1u6bhu0o0pZHced",
      "include_colab_link": true
    },
    "kernelspec": {
      "name": "python3",
      "display_name": "Python 3"
    },
    "language_info": {
      "name": "python"
    }
  },
  "cells": [
    {
      "cell_type": "markdown",
      "metadata": {
        "id": "view-in-github",
        "colab_type": "text"
      },
      "source": [
        "<a href=\"https://colab.research.google.com/github/ZainAli24/OpenAI_Agents_SDK_class_02/blob/main/Dataclasses%2CGenerics%2CCallable_class04.ipynb\" target=\"_parent\"><img src=\"https://colab.research.google.com/assets/colab-badge.svg\" alt=\"Open In Colab\"/></a>"
      ]
    },
    {
      "cell_type": "markdown",
      "source": [
        "# **1. Use of `__repr__` and `__eq__` methods in classes:**\n",
        "Neeche ek chhota sa example diya gaya hai jo __repr__ aur __eq__ ke kaam ko asaan alfaaz mein samjhata hai:\n",
        "\n",
        "```python\n",
        "from dataclasses import dataclass\n",
        "\n",
        "@dataclass\n",
        "class Human:\n",
        "    name: str\n",
        "    age: int\n",
        "\n",
        "# Do Human objects banate hain\n",
        "person1 = Human(\"Ali\", 25)\n",
        "person2 = Human(\"Ali\", 25)\n",
        "person3 = Human(\"Ahmed\", 30)\n",
        "\n",
        "# __repr__ kaam karta hai jab hum object ko print karte hain.\n",
        "# Ye method object ka readable representation deta hai.\n",
        "print(person1)\n",
        "# Output: Human(name='Ali', age=25)\n",
        "# Iska matlab hai ki person1 ka naam Ali hai aur umar 25 hai.\n",
        "\n",
        "# __eq__ kaam karta hai jab hum do objects ko compare karte hain.\n",
        "# Ye check karta hai ki dono objects ke attributes (name aur age) same hain ya nahi.\n",
        "print(person1 == person2)\n",
        "# Output: True\n",
        "# Kyunki person1 aur person2 ke attributes same hain.\n",
        "\n",
        "print(person1 == person3)\n",
        "# Output: False\n",
        "# Kyunki person1 aur person3 ke attributes alag hain.\n",
        "```\n",
        "\n",
        "**Samjhaane ke liye:**\n",
        "\n",
        "- **__repr__**:  \n",
        "  Jab aap `print(person1)` likhte hain, to Python automatically `__repr__` method ko call karta hai. Ye method ek string return karta hai jo object ke bare mein jankari deta hai, jaise \"Human(name='Ali', age=25)\". Is se aap asaani se dekh sakte hain ki object mein kya data hai.\n",
        "\n",
        "- **__eq__**:  \n",
        "  Jab aap `person1 == person2` likhte hain, to Python `__eq__` method ko call karta hai jo dono objects ke attributes (yani is example mein, `name` aur `age`) ko compare karta hai. Agar dono ke attributes same hote hain, to result `True` hota hai; agar different hote hain, to result `False`.\n",
        "\n",
        "**Is tarah, data classes automatically __repr__ aur __eq__ methods bana deti hain, jisse aapko manually ye sab likhne ki zaroorat nahi padti.**"
      ],
      "metadata": {
        "id": "d_f_jBjJjNHC"
      }
    },
    {
      "cell_type": "markdown",
      "source": [
        "## **Can repr represent object methods:**\n",
        "Yeh line yeh batane ke liye hai ke methods, yani functions jo aap class ke andar define karte hain, woh har object ke liye ek hi hoti hain. Matlab:\n",
        "\n",
        "- **Methods same rehti hain:**  \n",
        "  Jab aap ek class se multiple objects banate hain, un sab ke paas wohi methods available hoti hain. Jaise `userData` method, har object mein same tareeke se kaam karegi, chahe us object ka naam ya age alag ho.\n",
        "\n",
        "- **State ka ta'alluq attributes se hota hai:**  \n",
        "  State ka matlab hota hai ke ek object ke paas kya data hai (jaise `name` aur `age`). Yeh values object-specific hoti hain aur alag-alag objects mein mukhtalif ho sakti hain. Methods, inke operations perform karne ke liye hoti hain lekin woh khud state nahi rakhte.\n",
        "\n",
        "Is liye __repr__ mein aap normally sirf attributes (state) ko represent karte hain, kyun ke woh hi har object ke liye unique hota hai. Methods sab objects mein same hoti hain, isliye unka representation __repr__ mein include karne ki zarurat nahi parti.\n",
        "\n",
        "Misal ke taur par:\n",
        "```python\n",
        "class Human:\n",
        "    def __init__(self, name: str, age: str):\n",
        "        self.name = name\n",
        "        self.age = age\n",
        "\n",
        "    def userData(self):\n",
        "        return f\"User name is {self.name} and age is {self.age}\"\n",
        "\n",
        "    def __repr__(self):\n",
        "        return f\"Human(name='{self.name}', age='{self.age}')\"\n",
        "```\n",
        "Is code mein, __repr__ sirf `name` aur `age` dikhata hai, kyun ke yeh attributes har object ka unique data hain. Methods to sab objects mein ek hi rehti hain."
      ],
      "metadata": {
        "id": "ouOBV7CokyRL"
      }
    },
    {
      "cell_type": "markdown",
      "source": [
        "## **Use of `__eq__` in class:**\n",
        "Chaliye is function ko step-by-step samajhte hain:\n",
        "\n",
        "```python\n",
        "def __eq__(self, other):\n",
        "    if not isinstance(other, Human):\n",
        "        return NotImplemented\n",
        "    return self.name == other.name and self.age == other.age\n",
        "```\n",
        "\n",
        "1. **`def __eq__(self, other):`**  \n",
        "   Ye function Python ka ek special method hai jo tab call hota hai jab aap `==` operator se do objects ko compare karte hain.  \n",
        "   - **`self`**: Ye current object hai jiska aap comparison kar rahe hain.  \n",
        "   - **`other`**: Ye dusra object hai jiske saath aap compare karna chahte hain.\n",
        "\n",
        "2. **`if not isinstance(other, Human):`**  \n",
        "   Is line ka matlab hai ke pehle check karo ke `other` object bhi `Human` class ka hai ya nahi.  \n",
        "   - **`isinstance(other, Human)`**: Agar `other` ek `Human` object hai to ye True return karega, warna False.  \n",
        "   - **`if not`**: Agar `other` Human type ka nahi hai, to condition True ho jati hai.\n",
        "\n",
        "3. **`return NotImplemented`**  \n",
        "   Agar `other` Human type ka nahi hai, to hum comparison ko aage nahi badhate aur `NotImplemented` return kar dete hain.  \n",
        "   - Iska matlab hai: \"Mujhe pata nahi kaise compare karoon, isliye dusre object ka apna comparison method use karo.\"\n",
        "\n",
        "4. **`return self.name == other.name and self.age == other.age`**  \n",
        "   Agar `other` object Human type ka hai, to ye line dono objects ke attributes ko compare karti hai.  \n",
        "   - **`self.name == other.name`**: Ye check karta hai ke dono objects ka naam same hai ya nahi.  \n",
        "   - **`self.age == other.age`**: Ye check karta hai ke dono objects ki umar same hai ya nahi.  \n",
        "   - **`and`**: Dono comparisons agar true hon, tabhi pura expression true hoga.\n",
        "\n",
        "**Misaal:**\n",
        "\n",
        "Agar aapke paas do objects hain:\n",
        "\n",
        "```python\n",
        "person1 = Human(\"Ali\", 20)\n",
        "person2 = Human(\"Ali\", 20)\n",
        "```\n",
        "\n",
        "- `person1 == person2` call karne par:\n",
        "  - Pehle check hoga ke `person2` Human hai.\n",
        "  - Phir compare hoga ke `person1.name` (\"Ali\") == `person2.name` (\"Ali\") aur `person1.age` (20) == `person2.age` (20).\n",
        "  - Dono true hone par result True aayega.\n",
        "\n",
        "Is tarah __eq__ method ensure karta hai ke hum objects ka comparison sirf unke attributes ke basis par kar rahe hain, jo unki unique state hoti hai."
      ],
      "metadata": {
        "id": "Wj2PyvEV_AJV"
      }
    },
    {
      "cell_type": "markdown",
      "source": [
        "## **`isinstance(other, Human)` ka matlab:**\n",
        "> **\"Check karo ke `other` object kya `Human` class ka bana hua hai?\"**\n",
        "\n",
        "- `isinstance()` ek built-in Python function hai.\n",
        "- Ye do cheezen leta hai:  \n",
        "  **1. `other`** → jisko check karna hai  \n",
        "  **2. `Human`** → jis class se check karna hai"
      ],
      "metadata": {
        "id": "XvCWJuryFi62"
      }
    },
    {
      "cell_type": "markdown",
      "source": [
        "## **Can eq represent object methods:**\n",
        "Niche ek example diya gaya hai jis mien __eq method__ bhi sirf attributes (state) ko compare karta hai:\n",
        "\n",
        "```python\n",
        "class Human:\n",
        "    def __init__(self, name: str, age: str):\n",
        "        self.name = name\n",
        "        self.age = age\n",
        "\n",
        "    def userData(self):\n",
        "        return f\"User name is {self.name} and age is {self.age}\"\n",
        "\n",
        "    def __repr__(self):\n",
        "        return f\"Human(name='{self.name}', age='{self.age}')\"\n",
        "\n",
        "    def __eq__(self, other):\n",
        "        # Pehle check karo ke 'other' bhi Human type ka hai.\n",
        "        if not isinstance(other, Human):\n",
        "            return NotImplemented\n",
        "        # Sirf attributes (name aur age) ko compare karo,\n",
        "        # kyunki methods to sab objects mein same rehti hain.\n",
        "        return self.name == other.name and self.age == other.age\n",
        "\n",
        "# Misal:\n",
        "person1 = Human(\"Ali\", \"20\")\n",
        "person2 = Human(\"Ali\", \"20\")\n",
        "person3 = Human(\"Ahmed\", \"30\")\n",
        "\n",
        "print(person1 == person2)  # Output: True (attributes same hain)\n",
        "print(person1 == person3)  # Output: False (attributes mein farq hai)\n",
        "```\n",
        "\n",
        "**Samjhauta:**\n",
        "\n",
        "- **__eq__** method bhi bilkul isi tarah sirf attributes ko compare karta hai.  \n",
        "  - Pehle yeh check karta hai ke `other` object Human class ka hai ya nahi.  \n",
        "  - Phir dono objects ke `name` aur `age` ko compare karta hai.  \n",
        "- Methods (jaise ke `userData`) ko compare nahi karte, kyunki method ka kaam har object mein same hota hai aur woh state ko represent nahi karte.\n",
        "\n",
        "Is tarah __eq__ bhi __repr__ ki tarah object ke unique data (attributes) ko use karta hai, na ke methods ko."
      ],
      "metadata": {
        "id": "A6InGP6c_im2"
      }
    },
    {
      "cell_type": "code",
      "execution_count": 75,
      "metadata": {
        "id": "v7hq8A92e4Qr"
      },
      "outputs": [],
      "source": [
        "class Human:\n",
        "  name:str\n",
        "  age:str\n",
        "\n",
        "  def __init__(self,name:str,age:str):\n",
        "    self.name=name\n",
        "    self.age=age\n",
        "\n",
        "  def userData(self):\n",
        "    return f\"User name is {self.name} and age is {self.age}\"\n",
        "\n",
        "  def __repr__(self) -> str:\n",
        "    return f\"Human(name='{self.name}', age='{self.age}')\"\n",
        "\n",
        "  def __eq__(self, other):\n",
        "    if not isinstance(other, Human):\n",
        "      return f\"dono object ik hi class ke nahe hai, isliye comparison nahe banta!\"\n",
        "\n",
        "    return self.name == other.name and self.age == other.age\n"
      ]
    },
    {
      "cell_type": "code",
      "source": [
        "class Animal:\n",
        "  name:str\n",
        "  age:int\n",
        "\n",
        "  def __init__(self,name:str,age:int):\n",
        "    self.name=name\n",
        "    self.age=age\n",
        "\n",
        "  def userData(self):\n",
        "    return f\"User name is {self.name} and age is {self.age}\"\n"
      ],
      "metadata": {
        "id": "5TdExt-WImqT"
      },
      "execution_count": 76,
      "outputs": []
    },
    {
      "cell_type": "code",
      "source": [
        "person1 = Human(\"Ali\",\"20\")\n",
        "person2 = Human(\"Ali\",\"20\")\n",
        "person3 = Human(\"Sameer\",\"14\")\n",
        "\n",
        "animal1= Animal(\"Goat\", 4)\n",
        "animal2= Animal(\"Loin\", 8)\n",
        "\n",
        "print(person1)\n",
        "print(person1 == person2)\n",
        "print(person1 == person3)\n",
        "\n",
        "print(person1 == animal1)\n"
      ],
      "metadata": {
        "colab": {
          "base_uri": "https://localhost:8080/"
        },
        "id": "q14LaDybfhIO",
        "outputId": "c761e686-fc5a-4287-d12c-3b7349d08a27"
      },
      "execution_count": 77,
      "outputs": [
        {
          "output_type": "stream",
          "name": "stdout",
          "text": [
            "Human(name='Ali', age='20')\n",
            "True\n",
            "False\n",
            "dono object ik hi class ke nahe hai, isliye comparison nahe banta!\n"
          ]
        }
      ]
    },
    {
      "cell_type": "markdown",
      "source": [
        "# **1) Learning Dataclasses:**"
      ],
      "metadata": {
        "id": "5IAHotOwUEvq"
      }
    },
    {
      "cell_type": "code",
      "source": [
        "from dataclasses import dataclass"
      ],
      "metadata": {
        "id": "eA9-s2Z4PFHk"
      },
      "execution_count": 78,
      "outputs": []
    },
    {
      "cell_type": "code",
      "source": [
        "@dataclass\n",
        "class Person:\n",
        "  name:str\n",
        "  age:int\n",
        "  email : str = \"ZAINexample.com\"\n"
      ],
      "metadata": {
        "id": "B2eFgf4JZiDM"
      },
      "execution_count": 79,
      "outputs": []
    },
    {
      "cell_type": "code",
      "source": [
        "ob1 = Person(\"Ali\",20)\n",
        "obj2 = Person(\"Sameer\",10)\n",
        "print(ob1.email)\n",
        "print(obj2.email)\n",
        "print(ob1)\n",
        "print(obj2)\n",
        "print(ob1 == obj2)\n",
        "\n"
      ],
      "metadata": {
        "colab": {
          "base_uri": "https://localhost:8080/"
        },
        "id": "0trUAik2ZrxS",
        "outputId": "3aff0a72-62ab-4f3e-aa43-d6c9fe1b65eb"
      },
      "execution_count": 80,
      "outputs": [
        {
          "output_type": "stream",
          "name": "stdout",
          "text": [
            "ZAINexample.com\n",
            "ZAINexample.com\n",
            "Person(name='Ali', age=20, email='ZAINexample.com')\n",
            "Person(name='Sameer', age=10, email='ZAINexample.com')\n",
            "False\n"
          ]
        }
      ]
    },
    {
      "cell_type": "code",
      "source": [
        "from dataclasses import dataclass, field\n",
        "from typing import Optional\n",
        "\n",
        "@dataclass\n",
        "class Person:\n",
        "  name:str\n",
        "  age:int\n",
        "  email:Optional[str] = None\n",
        "  tags: list[str] = field(default_factory=list)"
      ],
      "metadata": {
        "id": "4LOK2JplURXs"
      },
      "execution_count": 81,
      "outputs": []
    },
    {
      "cell_type": "markdown",
      "source": [
        "## **Attribute type options:**\n",
        "Haan, Python 3.10 aur uske baad aap yeh teeno tarike istemal kar sakte hain, magar inka matlab thoda sa different hai:\n",
        "\n",
        "1. **`email: Optional[str] = None`**  \n",
        "   - **Matlab:** Email ya to ek string hogi ya phir None ho sakti hai.  \n",
        "   - **Tafseel:** `Optional[str]` asl mein `Union[str, None]` ka short form hai. Yeh clear hai type checkers ke liye ke email optional hai.\n",
        "\n",
        "2. **`email: str | None = None`**  \n",
        "   - **Matlab:** Yeh bhi wahi batata hai ke email ya to string hogi ya None ho sakti hai.  \n",
        "   - **Tafseel:** Python 3.10 mein aap union operator `|` ka istemal karke types ko combine kar sakte hain. Yeh bilkul `Optional[str]` jaisa hi kaam karta hai.\n",
        "\n",
        "3. **`email: str = None`**  \n",
        "   - **Matlab:** Aap technically likh sakte hain, lekin yeh sahi type hinting nahi hai.  \n",
        "   - **Tafseel:** Isme annotation batata hai ke email hamesha string hogi, magar phir bhi aap None assign kar rahe hain. Yeh type checkers ke liye misleading ho sakta hai, isliye pehle do tarike behtar hain.\n",
        "\n",
        "**Summary:**  \n",
        "- **Recommended:** `email: Optional[str] = None` ya `email: str | None = None`  \n",
        "- **Avoid:** `email: str = None` kyun ke yeh type system ko galat signal deta hai ke email hamesha ek string hogi."
      ],
      "metadata": {
        "id": "-5ONF8nbR1fG"
      }
    },
    {
      "cell_type": "markdown",
      "source": [
        "## **tags: list[str] = field(default_factory=list):**\n",
        "Chaliye is line ko bohat asaan alfaaz mein samajhte hain:\n",
        "\n",
        "```python\n",
        "tags: list[str] = field(default_factory=list)\n",
        "```\n",
        "\n",
        "### Breakdown:\n",
        "\n",
        "1. **`tags: list[str]`**  \n",
        "   - Yeh batata hai ke `tags` attribute ek list hogi jismein sirf strings honge.  \n",
        "   - Misal ke taur par, agar aap ke paas tags hon: `[\"developer\", \"student\"]`.\n",
        "\n",
        "2. **`= field(default_factory=list)`**  \n",
        "   - **`field`**: Yeh dataclasses module se aaya hua ek function hai jo aapko field ke behavior ko customize karne deta hai.  \n",
        "   - **`default_factory=list`**:  \n",
        "     - Iska matlab hai ke agar koi value provide nahi ki gayi to, Python automatically ek nayi empty list generate kar dega.  \n",
        "     - Har object ko apni alag empty list milegi.  \n",
        "     - Agar aap seedha `tags: list[str] = []` likhte, to saare objects ek hi list share karte — jo ghalat behavior ho sakta hai.\n",
        "\n",
        "### Simple Samjhauta:\n",
        "\n",
        "- **Kya hai?**  \n",
        "  `tags` ek attribute hai jo string ki list store karta hai.  \n",
        "- **Kis tarah kaam karta hai?**  \n",
        "  Agar aap `Person` object banate waqt `tags` nahi dete, to `default_factory=list` ke zariye har object ke liye ek nayi khaali list automatically set ho jayegi.\n",
        "\n",
        "### Misal:\n",
        "\n",
        "```python\n",
        "p1 = Person(name=\"Ali\", age=25)\n",
        "print(p1.tags)  # Output: [] — Yahan p1 ke liye ek empty list bani hai.\n",
        "\n",
        "p1.tags.append(\"developer\")\n",
        "print(p1.tags)  # Output: ['developer']\n",
        "\n",
        "p2 = Person(name=\"Sara\", age=30)\n",
        "print(p2.tags)  # Output: [] — p2 ke liye bhi ek alag khaali list bani hai.\n",
        "```\n",
        "\n",
        "Yeh ensure karta hai ke har `Person` object ka apna separate list ho, jo accidental sharing se bachata hai."
      ],
      "metadata": {
        "id": "shYqpcX4TnEr"
      }
    },
    {
      "cell_type": "markdown",
      "source": [
        "## **Attribute's share value to the object:**\n",
        "\n",
        "### aghar tags attribute ko tags: list[str] = [] is tarah karne se har object ke lea shared list ho gi toh kye email attribute ko email: Optoinal[str] = None or \"zain@example.com\" karne se ye kue nahe har object ke lea shared:\n",
        "\n",
        "Bilkul sahi socha aapne. Iska sabab yeh hai ke:\n",
        "\n",
        "- **Immutable types (jaise strings):**  \n",
        "  `email: Optional[str] = None` ya `email: Optional[str] = \"zain@example.com\"` mein jo default value assign hoti hai, wo immutable hoti hai. Matlab, strings ko modify nahi kiya ja sakta, isliye agar multiple objects unhi default values ko reference karte hain, to koi nuksaan nahi hota.\n",
        "\n",
        "- **Mutable types (jaise lists):**  \n",
        "  Agar aap likhen `tags: list[str] = []`, to yeh ek mutable object hai (list) jo change ho sakta hai. Is wajah se sab objects ek hi list ko share karenge, aur agar ek object list mein kuch add karta hai, to woh dusre object par bhi asar karega. Is problem ko door karne ke liye hum `field(default_factory=list)` use karte hain, jo har object ke liye ek nayi list banata hai.\n",
        "\n",
        "**Summary:**\n",
        "\n",
        "- **email:** Strings immutable hoti hain, isliye default value set karne se shared issues nahi hote.  \n",
        "- **tags:** Lists mutable hoti hain, isliye unke liye `default_factory` use karna zaroori hai taake har object ko apni alag list mile.\n",
        "\n",
        "Isliye aap email attribute ko aise define kar sakte hain:\n",
        "\n",
        "```python\n",
        "email: Optional[str] = None  # ya email: Optional[str] = \"zain@example.com\"\n",
        "```\n",
        "\n",
        "Aur yeh har object ke liye safe hai, kyunki wo immutable hain.\n",
        "\n",
        "\n",
        "∇\n"
      ],
      "metadata": {
        "id": "5vQh5cCOcUNf"
      }
    },
    {
      "cell_type": "markdown",
      "source": [
        "## **Memory reference confusion:**\n",
        "Bilkul, aap sahi samajh rahe hain. Chaliye isko thoda detail se samjhaata hoon:\n",
        "\n",
        "- **Immutable types (jaise string):**  \n",
        "  Jab aap `email: Optional[str] = None` ya `email: Optional[str] = \"zain@example.com\"` likhte hain, to default value ek immutable object (None ya ek string) hota hai.  \n",
        "  - Agar koi object is attribute ko change karta hai (jaise \"zain@example.com\" assign hota hai), to us object ke liye naya memory reference create ho jata hai.  \n",
        "  - Dusre objects par koi asar nahi hota kyun ke woh apne default value ya phir apna assigned value use karte hain.\n",
        "\n"
      ],
      "metadata": {
        "id": "KO10LS04c_Ft"
      }
    },
    {
      "cell_type": "code",
      "source": [
        "from dataclasses import dataclass, field\n",
        "from typing import Optional\n",
        "\n",
        "@dataclass\n",
        "class Human:\n",
        "  name:str\n",
        "  age:int\n",
        "  email:Optional[str] = None\n",
        "  tags: list[str] = field(default_factory=list)\n",
        "\n",
        "  def is_adult(self):\n",
        "    if self.age >= 18:\n",
        "      return f\"You are adult, your age is {self.age}\"\n",
        "    else:\n",
        "      return f\"You are not adult, your age is {self.age}\"\n",
        "\n",
        "\n",
        "\n",
        "person1 = Human(name=\"Zain\", age=21, email=\"zain@example.com\")\n",
        "person2 = Human(name=\"Ali\", age=17)\n",
        "person3 = Human(name=\"Sameer\", age=15, tags=[\"Student\"])\n",
        "person4 = Human(name=\"Zain\", age=21, email=\"zain@example.com\", tags=[\"Developer\"])\n",
        "\n",
        "\n",
        "person1.tags.append(\"Developer\")\n",
        "\n",
        "print(person1)\n",
        "print(person2)\n",
        "print(person3)\n",
        "\n",
        "print(person1 == person3)\n",
        "print(person1 == person4)\n",
        "\n",
        "print(person1.is_adult())\n",
        "print(person2.is_adult())\n",
        "print(person3.is_adult())\n"
      ],
      "metadata": {
        "colab": {
          "base_uri": "https://localhost:8080/"
        },
        "id": "ugk_Re8NSBdO",
        "outputId": "95cf8f3b-59e2-426f-f3c7-e058718b3bb4"
      },
      "execution_count": 82,
      "outputs": [
        {
          "output_type": "stream",
          "name": "stdout",
          "text": [
            "Human(name='Zain', age=21, email='zain@example.com', tags=['Developer'])\n",
            "Human(name='Ali', age=17, email=None, tags=[])\n",
            "Human(name='Sameer', age=15, email=None, tags=['Student'])\n",
            "False\n",
            "True\n",
            "You are adult, your age is 21\n",
            "You are not adult, your age is 17\n",
            "You are not adult, your age is 15\n"
          ]
        }
      ]
    },
    {
      "cell_type": "markdown",
      "source": [
        "## **Class without dataclass (Bad Practice):**"
      ],
      "metadata": {
        "id": "-ypaNQNsl5-z"
      }
    },
    {
      "cell_type": "code",
      "source": [
        "# BAD EXAMPLE: Class without dataclass\n",
        "class PersonBad:\n",
        "    def __init__(self, name, age, email=None, tags=None):\n",
        "        self.name = name\n",
        "        self.age = age\n",
        "        self.email = email\n",
        "        # Common mistake: mutable default\n",
        "        self.tags = tags if tags is not None else []\n",
        "\n",
        "    # Have to manually define string representation\n",
        "    def __repr__(self):\n",
        "        return f\"PersonBad(name={self.name}, age={self.age}, email={self.email}, tags={self.tags})\"\n",
        "\n",
        "    # Have to manually define equality\n",
        "    def __eq__(self, other):\n",
        "        if not isinstance(other, PersonBad):\n",
        "            return False\n",
        "        return (self.name == other.name and\n",
        "                self.age == other.age and\n",
        "                self.email == other.email and\n",
        "                self.tags == other.tags)\n",
        "\n",
        "\n",
        "\n",
        "    # More verbose and error-prone without dataclasses\n",
        "person1 = PersonBad(\"Alice\", 30, \"alice@example.com\")\n",
        "person2 = PersonBad(\"Bob\", 25)\n",
        "\n",
        "print(f\"PersonBad 1: {person1}\")\n",
        "print(f\"PersonBad 2: {person2}\")\n"
      ],
      "metadata": {
        "colab": {
          "base_uri": "https://localhost:8080/"
        },
        "id": "o3kTQitTV1Ar",
        "outputId": "7134b8f7-c008-4913-9e5c-006df8465d0b"
      },
      "execution_count": 83,
      "outputs": [
        {
          "output_type": "stream",
          "name": "stdout",
          "text": [
            "PersonBad 1: PersonBad(name=Alice, age=30, email=alice@example.com, tags=[])\n",
            "PersonBad 2: PersonBad(name=Bob, age=25, email=None, tags=[])\n"
          ]
        }
      ]
    },
    {
      "cell_type": "markdown",
      "source": [
        "## **tags if tags is not None else [ ]:**\n",
        "Chaliye is expression ko bohat asaan alfaaz mein samajhte hain:\n",
        "\n",
        "```python\n",
        "tags if tags is not None else []\n",
        "```\n",
        "\n",
        "### Yeh Expression Kya Karta Hai?\n",
        "\n",
        "- **Basic Structure:**  \n",
        "  Yeh ek shorthand (ternary operator) hai jo aise kaam karta hai:\n",
        "  ```python\n",
        "  result = value_if_true if condition else value_if_false\n",
        "  ```\n",
        "  Yahan, agar condition true hui, to `value_if_true` assign hota hai; agar condition false hui, to `value_if_false` assign hota hai.\n",
        "\n",
        "- **Is Case Mein:**\n",
        "  - **Condition:** `tags is not None`  \n",
        "    Iska matlab hai: \"Kya `tags` ki value None nahin hai?\"\n",
        "  - **Agar Condition True Hui:**  \n",
        "    Agar `tags` mein koi value hai (yaani user ne kuch pass kiya hai), to expression usi `tags` ko return karta hai.\n",
        "  - **Agar Condition False Hui:**  \n",
        "    Agar `tags` None hai (koi value pass nahin hui), to expression ek khaali list `[]` return karta hai.\n",
        "\n",
        "### Misal se Samjhauta:\n",
        "\n",
        "Agar aapka constructor yeh line use kar raha hai:\n",
        "```python\n",
        "self.tags = tags if tags is not None else []\n",
        "```\n",
        "\n",
        "- **Case 1:**  \n",
        "  Agar aap `PersonBad(\"Ali\", 25, tags=[\"python\", \"developer\"])` call karte hain:\n",
        "  - Yahan `tags` ki value `[\"python\", \"developer\"]` hai, jo None nahin hai.\n",
        "  - Is liye expression `tags if tags is not None` part execute karega, aur `self.tags` mein `[\"python\", \"developer\"]` assign ho jayegi.\n",
        "\n",
        "- **Case 2:**  \n",
        "  Agar aap `PersonBad(\"Sara\", 30)` call karte hain (yahan `tags` pass nahi kiya gaya, isliye default value None hai):\n",
        "  - `tags` is None, to condition `tags is not None` false ho jayegi.\n",
        "  - Phir expression `else []` execute hota hai, aur `self.tags` mein ek nayi khaali list `[]` assign ho jayegi.\n",
        "\n",
        "### Simple Summary:\n",
        "- Agar `tags` mein already koi value hai (None nahin hai), to ussi value ko use karo.\n",
        "- Agar `tags` mein koi value nahi hai (None hai), to ek khaali list `[]` bana do.\n",
        "\n",
        "Umeed hai ke ab aapko samajh aa gaya hoga!"
      ],
      "metadata": {
        "id": "ctJ1t4vGntel"
      }
    },
    {
      "cell_type": "code",
      "source": [
        "\"\"\"\n",
        "02_nested_dataclasses.py - Working with nested dataclasses\n",
        "\n",
        "This file demonstrates how to properly structure and work with nested dataclasses.\n",
        "\"\"\"\n",
        "\n",
        "from dataclasses import dataclass, field, asdict\n",
        "from typing import List, Dict, Optional\n",
        "import json\n",
        "\n",
        "\n",
        "# GOOD EXAMPLE: Well-structured nested dataclasses\n",
        "@dataclass\n",
        "class Address:\n",
        "    street: str\n",
        "    city: str\n",
        "    state: str\n",
        "    zip_code: str\n",
        "    country: str = \"USA\"\n",
        "\n",
        "\n",
        "@dataclass\n",
        "class Contact:\n",
        "    email: str\n",
        "    phone: Optional[str] = None\n",
        "\n",
        "\n",
        "@dataclass\n",
        "class Employee:\n",
        "    id: int\n",
        "    name: str\n",
        "    department: str\n",
        "    # Nested dataclass as a field\n",
        "    address: Address\n",
        "    # Another nested dataclass\n",
        "    contact: Contact\n",
        "    # List of another dataclass type\n",
        "    skills: List[str] = field(default_factory=list)\n",
        "\n",
        "    def to_json(self) -> str:\n",
        "        \"\"\"Convert the employee data to JSON string.\"\"\"\n",
        "        # asdict recursively converts dataclasses to dictionaries\n",
        "        return json.dumps(asdict(self), indent=2)\n",
        "\n",
        "    def add_skill(self, skill: str) -> None:\n",
        "        \"\"\"Add a skill to the employee's skill list.\"\"\"\n",
        "        if skill not in self.skills:\n",
        "            self.skills.append(skill)\n",
        "\n",
        "\n",
        "# Usage example - Good pattern\n",
        "def demo_good_nested():\n",
        "    # Create nested dataclass instances\n",
        "    address = Address(\n",
        "        street=\"123 Tech Lane\",\n",
        "        city=\"San Francisco\",\n",
        "        state=\"CA\",\n",
        "        zip_code=\"94107\"\n",
        "    )\n",
        "\n",
        "    contact = Contact(\n",
        "        email=\"john.doe@example.com\",\n",
        "        phone=\"555-123-4567\"\n",
        "    )\n",
        "\n",
        "    # Create the parent dataclass with nested instances\n",
        "    employee = Employee(\n",
        "        id=1001,\n",
        "        name=\"John Doe\",\n",
        "        department=\"Engineering\",\n",
        "        address=address,\n",
        "        contact=contact,\n",
        "        skills=[\"Python\", \"Data Science\"]\n",
        "    )\n",
        "\n",
        "    # Access nested attributes with proper dot notation\n",
        "    print(f\"Employee: {employee.name}\")\n",
        "    print(f\"City: {employee.address.city}\")\n",
        "    print(f\"Email: {employee.contact.email}\")\n",
        "\n",
        "    # Add a skill\n",
        "    employee.add_skill(\"Machine Learning\")\n",
        "    print(f\"Skills: {employee.skills}\")\n",
        "\n",
        "    # Convert to JSON\n",
        "    print(\"\\nEmployee JSON:\")\n",
        "    print(employee.to_json())\n",
        "\n",
        "\n",
        "# BAD EXAMPLE: Poorly structured data without proper nesting\n",
        "@dataclass\n",
        "class EmployeeBad:\n",
        "    id: int\n",
        "    name: str\n",
        "    department: str\n",
        "    # Flat structure instead of proper nesting\n",
        "    street: str\n",
        "    city: str\n",
        "    state: str\n",
        "    zip_code: str\n",
        "    email: str\n",
        "    # Fields with default values must come after required fields\n",
        "    phone: Optional[str] = None\n",
        "    country: str = \"USA\"\n",
        "    skills: List[str] = field(default_factory=list)\n",
        "\n",
        "\n",
        "# Even worse example: using dictionaries instead of proper dataclasses\n",
        "class EmployeeWorse:\n",
        "    def __init__(self, id, name, department, address_dict, contact_dict, skills=None):\n",
        "        self.id = id\n",
        "        self.name = name\n",
        "        self.department = department\n",
        "        # Using dictionaries instead of proper dataclasses\n",
        "        self.address = address_dict  # {\"street\": \"...\", \"city\": \"...\", ...}\n",
        "        self.contact = contact_dict  # {\"email\": \"...\", \"phone\": \"...\"}\n",
        "        self.skills = skills or []\n",
        "\n",
        "\n",
        "def demo_bad_nested():\n",
        "    # Flat structure makes it harder to organize and maintain\n",
        "    employee_bad = EmployeeBad(\n",
        "        id=1001,\n",
        "        name=\"John Doe\",\n",
        "        department=\"Engineering\",\n",
        "        street=\"123 Tech Lane\",\n",
        "        city=\"San Francisco\",\n",
        "        state=\"CA\",\n",
        "        zip_code=\"94107\",\n",
        "        email=\"john.doe@example.com\",\n",
        "        phone=\"555-123-4567\",\n",
        "        skills=[\"Python\", \"Data Science\"]\n",
        "    )\n",
        "\n",
        "    print(\"\\n=== BAD FLAT STRUCTURE ===\")\n",
        "    print(f\"Employee: {employee_bad}\")\n",
        "\n",
        "    # Using dictionaries is even worse\n",
        "    employee_worse = EmployeeWorse(\n",
        "        id=1001,\n",
        "        name=\"John Doe\",\n",
        "        department=\"Engineering\",\n",
        "        address_dict={\n",
        "            \"street\": \"123 Tech Lane\",\n",
        "            \"city\": \"San Francisco\",\n",
        "            \"state\": \"CA\",\n",
        "            \"zip_code\": \"94107\"\n",
        "        },\n",
        "        contact_dict={\n",
        "            \"email\": \"john.doe@example.com\",\n",
        "            \"phone\": \"555-123-4567\"\n",
        "        },\n",
        "        skills=[\"Python\", \"Data Science\"]\n",
        "    )\n",
        "\n",
        "    print(\"\\n=== WORSE DICTIONARY APPROACH ===\")\n",
        "    # No nice string representation\n",
        "    print(f\"Employee: {employee_worse.__dict__}\")\n",
        "    # Error-prone access to nested data\n",
        "    print(f\"City: {employee_worse.address['city']}\")\n",
        "\n",
        "\n",
        "if __name__ == \"__main__\":\n",
        "    print(\"=== GOOD NESTED DATACLASS EXAMPLE ===\")\n",
        "    demo_good_nested()\n",
        "\n",
        "    print(\"\\n=== BAD NESTED DATACLASS EXAMPLES ===\")\n",
        "    demo_bad_nested()"
      ],
      "metadata": {
        "colab": {
          "base_uri": "https://localhost:8080/"
        },
        "id": "ys15fHpPn72g",
        "outputId": "e0ef982e-3330-4bba-ebe1-5d0998821d60"
      },
      "execution_count": 84,
      "outputs": [
        {
          "output_type": "stream",
          "name": "stdout",
          "text": [
            "=== GOOD NESTED DATACLASS EXAMPLE ===\n",
            "Employee: John Doe\n",
            "City: San Francisco\n",
            "Email: john.doe@example.com\n",
            "Skills: ['Python', 'Data Science', 'Machine Learning']\n",
            "\n",
            "Employee JSON:\n",
            "{\n",
            "  \"id\": 1001,\n",
            "  \"name\": \"John Doe\",\n",
            "  \"department\": \"Engineering\",\n",
            "  \"address\": {\n",
            "    \"street\": \"123 Tech Lane\",\n",
            "    \"city\": \"San Francisco\",\n",
            "    \"state\": \"CA\",\n",
            "    \"zip_code\": \"94107\",\n",
            "    \"country\": \"USA\"\n",
            "  },\n",
            "  \"contact\": {\n",
            "    \"email\": \"john.doe@example.com\",\n",
            "    \"phone\": \"555-123-4567\"\n",
            "  },\n",
            "  \"skills\": [\n",
            "    \"Python\",\n",
            "    \"Data Science\",\n",
            "    \"Machine Learning\"\n",
            "  ]\n",
            "}\n",
            "\n",
            "=== BAD NESTED DATACLASS EXAMPLES ===\n",
            "\n",
            "=== BAD FLAT STRUCTURE ===\n",
            "Employee: EmployeeBad(id=1001, name='John Doe', department='Engineering', street='123 Tech Lane', city='San Francisco', state='CA', zip_code='94107', email='john.doe@example.com', phone='555-123-4567', country='USA', skills=['Python', 'Data Science'])\n",
            "\n",
            "=== WORSE DICTIONARY APPROACH ===\n",
            "Employee: {'id': 1001, 'name': 'John Doe', 'department': 'Engineering', 'address': {'street': '123 Tech Lane', 'city': 'San Francisco', 'state': 'CA', 'zip_code': '94107'}, 'contact': {'email': 'john.doe@example.com', 'phone': '555-123-4567'}, 'skills': ['Python', 'Data Science']}\n",
            "City: San Francisco\n"
          ]
        }
      ]
    },
    {
      "cell_type": "markdown",
      "source": [
        "## **json.dumps(asdict(self), indent=2):**\n",
        "\n",
        "Chalo is line ko **bohat hi simple** taur par tod ke samajhte hain:\n",
        "\n",
        "```python\n",
        "json.dumps(asdict(self), indent=2)\n",
        "```\n",
        "\n",
        "Yeh line kaam karti hai:\n",
        "\n",
        "## 🔹 Step-by-step Breakdown\n",
        "\n",
        "### 1. `asdict(self)`\n",
        "- Yeh `dataclass` ka built-in function hai.\n",
        "- `asdict()` **poore dataclass object ko dictionary mein badal deta hai**, including **nested dataclasses**.\n",
        "- Agar aap `Employee` ka object pass karte ho, jisme `address` aur `contact` bhi dataclass objects hain, to `asdict()` un sab ko dictionaries bana deta hai.\n",
        "\n",
        "**Example:**\n",
        "```python\n",
        "asdict(self)\n",
        "```\n",
        "Output kuch aisa hoga:\n",
        "```python\n",
        "{\n",
        "  \"id\": 1,\n",
        "  \"name\": \"Ali\",\n",
        "  \"department\": \"IT\",\n",
        "  \"address\": {\n",
        "    \"street\": \"Main St\",\n",
        "    \"city\": \"Lahore\",\n",
        "    ...\n",
        "  },\n",
        "  \"contact\": {\n",
        "    \"email\": \"ali@example.com\",\n",
        "    ...\n",
        "  },\n",
        "  \"skills\": [\"Python\", \"React\"]\n",
        "}\n",
        "```\n",
        "\n",
        "### 2. `json.dumps(...)`\n",
        "- `json.dumps()` Python dictionary ko **JSON string** mein convert karta hai.\n",
        "- Yani `asdict(self)` se jo dictionary milti hai, usko readable JSON format mein string bana deta hai.\n",
        "\n",
        "### 3. `indent=2`\n",
        "- Yeh optional argument hai jo JSON string ko **pretty print** karta hai.\n",
        "- `2` ka matlab hai: har nested level par **2 spaces ka indent** do.\n",
        "- Iss se output aur readable ho jata hai.\n",
        "\n",
        "---\n",
        "\n",
        "## 🔸 Overall Summary in Simple Words:\n",
        "```python\n",
        "json.dumps(asdict(self), indent=2)\n",
        "```\n",
        "matlab:\n",
        "> \"Employee object ko pehle dictionary banao (`asdict()` se), phir uss dictionary ko JSON string mein convert karo (`json.dumps()` se), aur usmein 2-space indentation use karo for pretty output.\"\n",
        "\n",
        "Agar aap chaho to `print(employee.to_json())` likhne par aapko ek **pretty JSON string** milegi jo poora object represent karti hai.\n",
        "\n"
      ],
      "metadata": {
        "id": "KvkB_z89tO0W"
      }
    },
    {
      "cell_type": "markdown",
      "source": [
        "## **asdict method of dataclass:**\n",
        "Bohat hi zabardast aur important sawal hai! 💡  \n",
        "Chalo simple Urdu mein samjhte hain:\n",
        "\n",
        "---\n",
        "\n",
        "### 🔸 **Sawal 1:**  \n",
        "> Tum ne `asdict(self)` `Employee` class ke andar lagaya hai.  \n",
        "> **Toh kya ye `Address` aur `Contact` class pe bhi apply hoga?**\n",
        "\n",
        "**✅ Jawab:**  \n",
        "**Haan, bilkul hoga.**  \n",
        "Jab `asdict(self)` ko `Employee` object pe lagate ho, to **wo recursively** uske andar ke saare dataclass fields (jaise `address`, `contact`) pe bhi apply hota hai.\n",
        "\n",
        "Yani agar `Employee` ke andar koi aur dataclass object ho (jaise `Address` aur `Contact`), to `asdict()` **unko bhi dictionary bana deta hai**.\n",
        "\n",
        "---\n",
        "\n",
        "### 🔸 **Sawal 2:**  \n",
        "> Kya `asdict()` sirf un classes pe apply hota hai jin par `@dataclass` laga ho?\n",
        "\n",
        "**✅ Jawab:**  \n",
        "**Haan.**  \n",
        "`asdict()` sirf unhi objects pe kaam karta hai jo `@dataclass` hain.\n",
        "\n",
        "Agar kisi normal class (bina `@dataclass`) pe `asdict()` lagao to **error** aayega:\n",
        "```python\n",
        "TypeError: asdict() should be called on dataclass instances\n",
        "```\n",
        "\n",
        "---\n",
        "\n",
        "### 🔸 Example to Prove:\n",
        "```python\n",
        "employee = Employee(\n",
        "    id=1,\n",
        "    name=\"Ali\",\n",
        "    department=\"IT\",\n",
        "    address=Address(\"Main St\", \"Lahore\", \"Punjab\", \"54000\"),\n",
        "    contact=Contact(\"ali@example.com\", \"123456\"),\n",
        "    skills=[\"Python\", \"Django\"]\n",
        ")\n",
        "\n",
        "print(asdict(employee))\n",
        "```\n",
        "\n",
        "Output:\n",
        "```python\n",
        "{\n",
        "  'id': 1,\n",
        "  'name': 'Ali',\n",
        "  'department': 'IT',\n",
        "  'address': {\n",
        "    'street': 'Main St',\n",
        "    'city': 'Lahore',\n",
        "    'state': 'Punjab',\n",
        "    'zip_code': '54000',\n",
        "    'country': 'USA'\n",
        "  },\n",
        "  'contact': {\n",
        "    'email': 'ali@example.com',\n",
        "    'phone': '123456'\n",
        "  },\n",
        "  'skills': ['Python', 'Django']\n",
        "}\n",
        "```\n",
        "\n",
        "Dekh lo `address` aur `contact` bhi dictionary ban chuke hain automatically 🎯\n",
        "\n"
      ],
      "metadata": {
        "id": "G5sxcgFtvU8J"
      }
    },
    {
      "cell_type": "markdown",
      "source": [
        "# **2) Learning Callables:**"
      ],
      "metadata": {
        "id": "oLqz1GXMwR3K"
      }
    },
    {
      "cell_type": "markdown",
      "source": [
        "## **🔹 Ye line kya keh rahi hai:**\n",
        "```python\n",
        "MyFuncType = Callable[[int, int], str]\n",
        "```\n",
        "\n",
        "Iska matlab hai:\n",
        "\n",
        "> Ek **function ka type** define kiya gaya hai jiska naam hai `MyFuncType`  \n",
        "> Ye ek **callable (yaani function)** hoga jo:\n",
        "> - **Do `int` values leta hai** as arguments  \n",
        "> - Aur **`str` return karta hai**\n",
        "\n",
        "---\n",
        "\n",
        "### 🔹 \"type = \" syntax ka matlab?\n",
        "\n",
        "Ye koi function call nahi hai —  \n",
        "Ye **type aliasing** hai, yaani tum ek type ka naam rakh rahe ho, taake baar baar `Callable[[int, int], str]` likhne ke bajaye sirf `MyFuncType` likh sako.\n",
        "\n",
        "---\n",
        "\n",
        "### 🔹 Example:\n",
        "\n",
        "```python\n",
        "from typing import Callable\n",
        "\n",
        "# Type alias\n",
        "MyFuncType = Callable[[int, int], str]\n",
        "\n",
        "# Function that matches that type\n",
        "def add_and_return_str(a: int, b: int) -> str:\n",
        "    return f\"Total is {a + b}\"\n",
        "\n",
        "# Variable jisme function assign ho raha hai\n",
        "my_func: MyFuncType = add_and_return_str\n",
        "\n",
        "print(my_func(3, 4))  # Output: \"Total is 7\"\n",
        "```\n",
        "\n",
        "---\n",
        "\n",
        "### 🔹 Fayda?\n",
        "\n",
        "Jab tum complex function types use kar rahe ho, to readability aur reuse ke liye `MyFuncType` jese naam ka use helpful hota hai.\n",
        "\n"
      ],
      "metadata": {
        "id": "fRxcEAfF5hIA"
      }
    },
    {
      "cell_type": "code",
      "source": [
        "from typing import Callable\n",
        "MyFuncType = Callable[[int,int], str]\n",
        "\n",
        "print(MyFuncType)"
      ],
      "metadata": {
        "colab": {
          "base_uri": "https://localhost:8080/"
        },
        "id": "1je2165jx8Ka",
        "outputId": "a29f97b2-da07-428b-fb62-ce0950ea1e08"
      },
      "execution_count": 85,
      "outputs": [
        {
          "output_type": "stream",
          "name": "stdout",
          "text": [
            "typing.Callable[[int, int], str]\n"
          ]
        }
      ]
    },
    {
      "cell_type": "code",
      "source": [
        "from dataclasses import dataclass\n",
        "from typing import Callable\n",
        "\n",
        "@dataclass\n",
        "class Calculator:\n",
        "  operation: Callable[[int,int], str]\n",
        "\n",
        "  def calculate(self, a:int, b:int) -> str:\n",
        "    return self.operation(a, b)\n",
        "\n",
        "\n",
        "def add_and_stringify(x:int, y:int) -> str:\n",
        "  return str(x + y)\n",
        "\n",
        "\n",
        "cal = Calculator(operation=add_and_stringify)\n",
        "print(cal.calculate(4, 86))\n"
      ],
      "metadata": {
        "colab": {
          "base_uri": "https://localhost:8080/"
        },
        "id": "DVgl2pNh57Wa",
        "outputId": "a957011f-8147-43e1-a8cc-b817ef5d4915"
      },
      "execution_count": 86,
      "outputs": [
        {
          "output_type": "stream",
          "name": "stdout",
          "text": [
            "90\n"
          ]
        }
      ]
    },
    {
      "cell_type": "markdown",
      "source": [
        "### **instead of calculate function we use `__call__` :**\n"
      ],
      "metadata": {
        "id": "SOEHa5XUhRAa"
      }
    },
    {
      "cell_type": "code",
      "source": [
        "from dataclasses import dataclass\n",
        "from typing import Callable\n",
        "\n",
        "@dataclass\n",
        "class Calculator:\n",
        "  operation: Callable[[int,int], str]\n",
        "\n",
        "  def __call__(self, a:int, b:int) -> str:\n",
        "    return self.operation(a, b)\n",
        "\n",
        "\n",
        "def add_and_stringify(x:int, y:int) -> str:\n",
        "  return str(x + y)\n",
        "\n",
        "\n",
        "cal = Calculator(operation=add_and_stringify)\n",
        "print(cal(4, 5))\n"
      ],
      "metadata": {
        "colab": {
          "base_uri": "https://localhost:8080/"
        },
        "id": "1fLEoGZ5hZlC",
        "outputId": "af0eb70a-f85c-4a82-e79f-15923dbde10e"
      },
      "execution_count": 87,
      "outputs": [
        {
          "output_type": "stream",
          "name": "stdout",
          "text": [
            "9\n"
          ]
        }
      ]
    },
    {
      "cell_type": "markdown",
      "source": [
        "# **3) Learning Generics:**"
      ],
      "metadata": {
        "id": "wzCPoj7gi0a-"
      }
    },
    {
      "cell_type": "code",
      "source": [
        "from typing import Any\n",
        "def first_element(items: list[Any])-> Any:\n",
        "  return items[0]\n",
        "\n",
        "num = [1, 2, 5, 9]\n",
        "stri = [\"a\", \"b\", \"c\"]\n",
        "\n",
        "\n",
        "print(first_element(num))\n",
        "print(first_element(stri))"
      ],
      "metadata": {
        "colab": {
          "base_uri": "https://localhost:8080/"
        },
        "id": "mf2K0G4bnv8p",
        "outputId": "188ca632-4290-4061-f82f-c3e2c7c92f1b"
      },
      "execution_count": 88,
      "outputs": [
        {
          "output_type": "stream",
          "name": "stdout",
          "text": [
            "1\n",
            "a\n"
          ]
        }
      ]
    },
    {
      "cell_type": "markdown",
      "source": [
        "## **Generics:**\n",
        "Generics ka matlab hai ke aap aisi functions aur classes bana sakte hain jo mukhtalif data types ke sath kaam kar sakein, bina alag alag versions likhe, aur phir bhi ye ensure karte hain ke har kaam type-safe tareeke se ho raha hai.\n",
        "\n",
        "### Asaan Alfaaz Mein:\n",
        "- **Generic functions/classes:**  \n",
        "  Aap ek hi function ya class ka code likhte hain jo alag alag types (jaise int, str, etc.) pe kaam kare.\n",
        "- **Type safety:**  \n",
        "  Iska matlab hai ke Python aapke code ko check karta hai ke aap sahi type use kar rahe hain. Agar aap koi galat type pass karte hain, to error de sakta hai.\n",
        "  \n",
        "### Simple Example:\n",
        "\n",
        "```python\n",
        "from typing import TypeVar, Generic\n",
        "\n",
        "# T ek generic type variable hai, jo kisi bhi type ko represent kar sakta hai.\n",
        "T = TypeVar('T')\n",
        "\n",
        "# Generic class: Box har type ka element store kar sakta hai, chahe int ho ya str ya koi aur.\n",
        "class Box(Generic[T]):\n",
        "    def __init__(self, content: T) -> None:\n",
        "        self.content = content\n",
        "\n",
        "    def get_content(self) -> T:\n",
        "        return self.content\n",
        "\n",
        "# Int type ke liye:\n",
        "int_box = Box(10)\n",
        "print(int_box.get_content())  # Output: 10\n",
        "\n",
        "# Str type ke liye:\n",
        "str_box = Box(\"Hello\")\n",
        "print(str_box.get_content())  # Output: Hello\n",
        "```\n",
        "\n",
        "### Is Example Mein:\n",
        "- **`T = TypeVar('T')`:**  \n",
        "  T aik placeholder hai jo kisi bhi type ko represent kar sakta hai.\n",
        "- **`Box(Generic[T])`:**  \n",
        "  Jab hum Box(Generic[T]) likhte hain, iska matlab hai ke Box class ek aisi template hai jismein \"T\" ek placeholder hai. Ye \"T\" kisi bhi type ki value ho sakti hai—jaise int, str, list, etc.\n",
        "\n",
        "  Jab aap Box ko use karte hue koi object banate hain, to aap ko specify karna hota hai ke T kis type ka hoga. For example:\n",
        "  \n",
        "  ```python\n",
        "  int_box = Box(10)         # Yahan T ki value int ho gayi\n",
        "  str_box = Box(\"Hello\")      # Yahan T ki value str ho gayi\n",
        "  ```\n",
        "  \n",
        "  Iska matlab yeh hua ke int_box ke andar sirf int values store hongi, aur str_box ke andar sirf string values.\n",
        "\n",
        "- **Type safety:**  \n",
        "Type Safety ka matlab hai ke agar aap ek specific type (jaise int) ke liye box banate hain, to woh box sirf usi type ki value expect karta hai. Agar aap galati se koi doosri type (jaise str) pass karte hain, to type checker error dega.\n",
        "\n"
      ],
      "metadata": {
        "id": "OiYRLcHRzpO2"
      }
    },
    {
      "cell_type": "markdown",
      "source": [
        "### **Typevariable for List:**"
      ],
      "metadata": {
        "id": "fYkA1rNBskRp"
      }
    },
    {
      "cell_type": "code",
      "source": [
        "from dataclasses import dataclass\n",
        "from typing import TypeVar\n",
        "\n",
        "# Type variable for generic typing\n",
        "T = TypeVar('T')\n",
        "\n",
        "def generic_first_element(items: list[T]) -> T:\n",
        "  return items[0]\n",
        "\n",
        "\n",
        "num = [1, 2, 5, 9]\n",
        "stri = [\"a\", \"b\", \"c\"]\n",
        "\n",
        "\n",
        "print(generic_first_element(num))    # type inferred as int\n",
        "print(generic_first_element(stri))   # type inferred as str"
      ],
      "metadata": {
        "colab": {
          "base_uri": "https://localhost:8080/"
        },
        "id": "3jGiEC3B1wDU",
        "outputId": "5ec9ddca-6e01-411e-bf4a-8c4848fa7cdb"
      },
      "execution_count": 89,
      "outputs": [
        {
          "output_type": "stream",
          "name": "stdout",
          "text": [
            "1\n",
            "a\n"
          ]
        }
      ]
    },
    {
      "cell_type": "markdown",
      "source": [
        "### **Typevariable for Dictionary:**"
      ],
      "metadata": {
        "id": "qUzwCcq8EjOb"
      }
    },
    {
      "cell_type": "code",
      "source": [
        "from dataclasses import dataclass\n",
        "from typing import TypeVar\n",
        "\n",
        "K = TypeVar('K') # keys\n",
        "V = TypeVar('V') # values\n",
        "\n",
        "def generic__dict_first_element(items: dict[K, V], key:K)-> V:\n",
        "  return items[key]\n",
        "\n",
        "\n",
        "d = {'name': \"Zain\", 'age': 21}\n",
        "\n",
        "print(generic__dict_first_element(d, 'age'))"
      ],
      "metadata": {
        "colab": {
          "base_uri": "https://localhost:8080/"
        },
        "id": "OHNlSsUO3rBz",
        "outputId": "a0de4ba5-555f-4325-c73e-12810249ac6e"
      },
      "execution_count": 90,
      "outputs": [
        {
          "output_type": "stream",
          "name": "stdout",
          "text": [
            "21\n"
          ]
        }
      ]
    },
    {
      "cell_type": "markdown",
      "source": [
        "##  **Generic Classes:**\n",
        "- jab bhi hum Classes mien Generic ko use karenge toh `Generic keyword` lage ga TypeVar ke sath:\n",
        "```python\n",
        "class Stack(Generic[T])\n",
        "```"
      ],
      "metadata": {
        "id": "wdmj9ZTvxXoy"
      }
    },
    {
      "cell_type": "code",
      "source": [
        "from dataclasses import dataclass, field\n",
        "from typing import TypeVar, Generic, ClassVar\n",
        "\n",
        "T = TypeVar('T')\n",
        "\n",
        "@dataclass\n",
        "class Stack(Generic[T]):\n",
        "  items: list[T] = field(default_factory=list)\n",
        "  limit: ClassVar[int] = 10\n",
        "\n",
        "  def push(self, item: T) -> None:\n",
        "    self.items.append(item)\n",
        "\n",
        "  def pop(self) -> T:\n",
        "    return self.items.pop()   # it remove the last value of list and retrun remove value.\n",
        "\n"
      ],
      "metadata": {
        "id": "ZMtuZYjKsny8"
      },
      "execution_count": 91,
      "outputs": []
    },
    {
      "cell_type": "code",
      "source": [
        "# int class object:\n",
        "stack_of_int = Stack[int]([4,6,12])\n",
        "\n",
        "print(stack_of_int)\n",
        "print(Stack.limit)\n",
        "\n",
        "stack_of_int.push(25)\n",
        "stack_of_int.push(13)\n",
        "stack_of_int.push(45)\n",
        "\n",
        "print(stack_of_int.pop())\n",
        "print(stack_of_int.items)"
      ],
      "metadata": {
        "colab": {
          "base_uri": "https://localhost:8080/"
        },
        "id": "GuelpCYKz0n7",
        "outputId": "88cc8a26-b8bf-4671-b32d-5ee31a2aeb51"
      },
      "execution_count": 92,
      "outputs": [
        {
          "output_type": "stream",
          "name": "stdout",
          "text": [
            "Stack(items=[4, 6, 12])\n",
            "10\n",
            "45\n",
            "[4, 6, 12, 25, 13]\n"
          ]
        }
      ]
    },
    {
      "cell_type": "code",
      "source": [
        "# string class object:\n",
        "stack2 = Stack[str]([\"Zain\", \"Ali\", \"Sameer\"])\n",
        "\n",
        "print(stack2)\n",
        "print(Stack.limit)\n",
        "\n",
        "stack2.push(\"Saim\")\n",
        "stack2.push(\"Sarim\")\n",
        "stack2.push(\"Aryaan\")\n",
        "\n",
        "print(stack2.pop())\n",
        "print(stack2.items)"
      ],
      "metadata": {
        "colab": {
          "base_uri": "https://localhost:8080/"
        },
        "id": "u4WXvWV_6ExC",
        "outputId": "35f0ddfc-9f53-4280-ec45-ec1622f0b9a0"
      },
      "execution_count": 93,
      "outputs": [
        {
          "output_type": "stream",
          "name": "stdout",
          "text": [
            "Stack(items=['Zain', 'Ali', 'Sameer'])\n",
            "10\n",
            "Aryaan\n",
            "['Zain', 'Ali', 'Sameer', 'Saim', 'Sarim']\n"
          ]
        }
      ]
    },
    {
      "cell_type": "markdown",
      "source": [
        "### **`stack_of_int = Stack([4,6,12])` : is tarah likhne se bhi T hamari value ki base par type set kar deta hai, toh hum is tarah kue use kar rahe hai: `Stack[int]()` ? :**\n",
        "\n",
        "### **Answer:**\n",
        "Aap ne bilkul sahi note kiya hai ke agar aap `Stack([4,6,12])` likhte hain to Python ki taraf se type inference ho sakti hai aur `T` ki value values ke basis par int ho sakti hai. Lekin hum ye kyu use karte hain: `Stack[int]()`?\n",
        "\n",
        "### Asaan Alfaaz Mein Jawaab:\n",
        "\n",
        "1. **Explicitly Specify Karna:**\n",
        "   - `Stack[int]()` likhne se hum explicitly batate hain ke is stack ka type `int` hai.\n",
        "   - Is tarah type checkers (jaise mypy) aur hamare code ko padhne wale dono ke liye clear ho jata hai ke yahan sirf integers allowed hain.\n",
        "\n",
        "2. **Type Safety:**\n",
        "   - Jab aap `Stack[int]()` specify karte hain, to agar baad mein aap accidentally string push karne ki koshish karte hain, to static type checkers error de dete hain.\n",
        "   - Example:\n",
        "     ```python\n",
        "     stack_of_int = Stack[int]()\n",
        "     stack_of_int.push(5)      # Sahi, kyunki 5 ek int hai.\n",
        "     # stack_of_int.push(\"hello\")  # Type checker ke liye error; yeh allowed nahin.\n",
        "     ```\n",
        "     \n",
        "3. **Code Readability Aur Maintenance:**\n",
        "   - Jab code explicitly likha gaya hota hai, to baad mein aap ya koi aur developer asaani se samajh sakta hai ke kis type ka data expect kiya ja raha hai.\n",
        "   - Yeh clarity se future bugs aur misunderstandings ko rokta hai.\n",
        "\n",
        "4. **Generic Functions Aur Classes Mein Consistency:**\n",
        "   - Generics ka maksad yeh hota hai ke ek hi template se multiple specific versions banayein.\n",
        "   - Agar aap hamesha explicitly type parameter specify karenge, to code ka behavior predictable rahega.\n",
        "\n",
        "### Summary:\n",
        "Haan, Python type inference kabhi-kabhi aap se T ki value ko values se derive kar sakta hai, lekin explicit notation `Stack[int]()` se aap type safety, clarity, aur consistency ensure karte hain. Yeh practice especially tab madadgar hoti hai jab aap apne project mein generics ka extensive istemal karte hain.\n",
        "\n",
        "Umeed hai ab aapko clear ho gaya hoga ke hum `Stack[int]()` kyun use karte hain!"
      ],
      "metadata": {
        "id": "xuGe36R233_5"
      }
    },
    {
      "cell_type": "markdown",
      "source": [
        "### **Kia is tarah karne se Stack class ke ander jha bhi T use ho rha hota hai wha type int ho jati hai beshak method mein T use ho rha ho?  : `Stack[int]()` :**\n",
        "\n",
        "Bilkul, jab aap `Stack[int]()` likhte hain, to is se class ke andar jitni bhi jagah `T` use hua hai, wahan pe `int` replace ho jata hai. Matlab:\n",
        "\n",
        "- **Field Declaration:**  \n",
        "  `items: list[T]` ho jayega `items: list[int]`  \n",
        "  Iska matlab hai ke yeh list sirf integers ka collection store karegi.\n",
        "\n",
        "- **Methods:**  \n",
        "  For example, method `push(self, item: T) -> None` ho jayegi `push(self, item: int) -> None`.  \n",
        "  Aur isi tarah, `pop(self) -> T` ho jayegi `pop(self) -> int`.\n",
        "\n",
        "Yani, `Stack[int]()` se Stack ka generic placeholder `T` sab jagah par `int` ke sath replace ho jata hai, chahe wo class ke attributes mein ho ya methods ke parameters aur return types mein.\n",
        "\n",
        "Agar aap `Stack[str]()` banate, to wahan `T` har jagah `str` ban jata. Yeh generics ka core maksad hai: ek hi class ko different types ke sath use karna, bina code repeat kiye."
      ],
      "metadata": {
        "id": "EThpAZnH5Lcd"
      }
    },
    {
      "cell_type": "markdown",
      "source": [
        "### **aghar different type ik hi class mien Generic se handle karni ho toh kese hoga:**\n",
        "\n",
        "Agar aap chahte hain ke ek hi generic class mein mukhtalif types ko handle kiya jaye, to aap ke paas do options hain:\n",
        "\n",
        "---\n",
        "\n",
        "### Option 1: Alag-alag Instances with Different Type Arguments\n",
        "\n",
        "Aap ek hi `Stack` class se alag-alag instances bana sakte hain—ek instance jo sirf integers handle kare (i.e. `Stack[int]()`), aur doosra jo sirf strings handle kare (i.e. `Stack[str]()`).\n",
        "\n",
        "```python\n",
        "stack_of_int = Stack[int]()\n",
        "stack_of_str = Stack[str]()\n",
        "\n",
        "stack_of_int.push(5)         # Sahi: 5 ek int hai.\n",
        "stack_of_str.push(\"Hello\")     # Sahi: \"Hello\" ek str hai.\n",
        "```\n",
        "\n",
        "Is tarah, har instance ke liye `T` alag ho jata hai (ek ke liye `int`, doosre ke liye `str`), aur type safety maintain rehti hai.\n",
        "\n",
        "---\n",
        "\n",
        "### Option 2: Ek Hi Instance Mein Multiple Types (Using Union)\n",
        "\n",
        "Agar aap chahte hain ke ek hi instance ke andar mukhtalif types store hon (jaise int aur str dono), to aap `Union` ka istemal kar sakte hain. Is se aap specify karte hain ke `T` ki value ek union ho sakti hai, jo dono types ko allow kare:\n",
        "\n",
        "```python\n",
        "from typing import Union\n",
        "\n",
        "# Ab hum ek stack banayenge jismein int ya str dono store ho sakte hain.\n",
        "stack_mixed = Stack[Union[int, str]]([43, \"Zain\"])\n",
        "\n",
        "stack_mixed.push(10)           # Int add kar rahe hain.\n",
        "stack_mixed.push(\"Hello\")      # Str bhi add kar sakte hain.\n",
        "\n",
        "print(stack_mixed)             # Output: Stack with items [10, \"Hello\"]\n",
        "```\n",
        "\n",
        "Is example mein, `T` replace ho jata hai `Union[int, str]` se, jis ka matlab hai ke `stack_mixed` mein aap int aur str dono rakh sakte hain.\n",
        "\n",
        "---\n",
        "\n",
        "### Summary in Simple Alfaaz:\n",
        "\n",
        "- **`Stack[int]()`** ka matlab hai ke is particular instance ke liye har jagah jahan `T` use hua hai, wahan `int` use kiya jayega.  \n",
        "- Agar aap chahte hain ke ek hi class ko mukhtalif types ke liye use kar sakein, to aap ya to alag-alag instances bana sakte hain (`Stack[int]()`, `Stack[str]()`), ya phir agar ek instance mein multiple types chahiye, to aap `Union` ka istemal kar sakte hain, jaise `Stack[Union[int, str]]()`.\n",
        "\n",
        "Umeed hai is se clear ho gaya hoga ke ek hi generic class mein different types ko handle kaise kiya ja sakta hai!"
      ],
      "metadata": {
        "id": "w9LRIRNq-nSi"
      }
    },
    {
      "cell_type": "code",
      "source": [
        "from dataclasses import dataclass, field\n",
        "from typing import TypeVar, Generic, ClassVar, Union\n",
        "\n",
        "T = TypeVar('T')\n",
        "\n",
        "@dataclass\n",
        "class Stack3(Generic[T]):\n",
        "  items: list[T] = field(default_factory=list)\n",
        "  limit: ClassVar[int] = 13\n",
        "\n",
        "  def push(self, item: T) -> None:\n",
        "    self.items.append(item)\n",
        "\n",
        "  def pop(self) -> T:\n",
        "    return self.items.pop()   # it remove the last value of list and retrun remove value.\n"
      ],
      "metadata": {
        "id": "j4bLkN99_gHt"
      },
      "execution_count": 94,
      "outputs": []
    },
    {
      "cell_type": "code",
      "source": [
        "stack3 = Stack3[Union[int, str]]([23, \"Amir\"])\n",
        "\n",
        "stack3.push(10)           # Int add kar rahe hain.\n",
        "stack3.push(\"Hello\")      # Str bhi add kar sakte hain.\n",
        "\n",
        "print(stack3)             # Output: Stack with items [10, \"Hello\"]\n",
        "print(stack3.pop())\n",
        "print(stack3)\n",
        "\n",
        "\n",
        "stack3.push(\"Duck\")\n",
        "\n",
        "print(stack3)\n",
        "print(stack3.pop())\n",
        "print(stack3)\n",
        "\n",
        "\n"
      ],
      "metadata": {
        "colab": {
          "base_uri": "https://localhost:8080/"
        },
        "id": "aWhY5jpT4OlS",
        "outputId": "c762b306-0dfa-41ce-ae13-221b6dea432d"
      },
      "execution_count": 95,
      "outputs": [
        {
          "output_type": "stream",
          "name": "stdout",
          "text": [
            "Stack3(items=[23, 'Amir', 10, 'Hello'])\n",
            "Hello\n",
            "Stack3(items=[23, 'Amir', 10])\n",
            "Stack3(items=[23, 'Amir', 10, 'Duck'])\n",
            "Duck\n",
            "Stack3(items=[23, 'Amir', 10])\n"
          ]
        }
      ]
    },
    {
      "cell_type": "code",
      "source": [],
      "metadata": {
        "id": "cUrIBEBSEA0a"
      },
      "execution_count": 95,
      "outputs": []
    }
  ]
}