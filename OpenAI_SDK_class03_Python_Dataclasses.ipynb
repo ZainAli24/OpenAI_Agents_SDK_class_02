{
  "nbformat": 4,
  "nbformat_minor": 0,
  "metadata": {
    "colab": {
      "provenance": [],
      "authorship_tag": "ABX9TyOND+mlBosVNjKCC/w2s1h/",
      "include_colab_link": true
    },
    "kernelspec": {
      "name": "python3",
      "display_name": "Python 3"
    },
    "language_info": {
      "name": "python"
    }
  },
  "cells": [
    {
      "cell_type": "markdown",
      "metadata": {
        "id": "view-in-github",
        "colab_type": "text"
      },
      "source": [
        "<a href=\"https://colab.research.google.com/github/ZainAli24/OpenAI_Agents_SDK_class_02/blob/main/OpenAI_SDK_class03_Python_Dataclasses.ipynb\" target=\"_parent\"><img src=\"https://colab.research.google.com/assets/colab-badge.svg\" alt=\"Open In Colab\"/></a>"
      ]
    },
    {
      "cell_type": "markdown",
      "source": [
        "##**1. dataclass** ke ander se hume apni class ke ander build in constructor mil jata hai hai, jis se hume apni classes mein baar baar contructor define karne ki zarrorrat nahe hoti."
      ],
      "metadata": {
        "id": "JaulLUVKJhKQ"
      }
    },
    {
      "cell_type": "code",
      "execution_count": 13,
      "metadata": {
        "id": "kXuQg2_PIwBe"
      },
      "outputs": [],
      "source": [
        "from dataclasses import dataclass\n",
        "# dataclass ke ander se hume apni class ke ander build in constructor mil jata hai hai,\n",
        "# jis se hume apni classes mein baar baar contructor define karne ki zarrorrat nahe hoti."
      ]
    },
    {
      "cell_type": "code",
      "source": [
        "from typing import ClassVar  # ClassVar ka matlab hai ke ye class ka variable hai.\n",
        "\n",
        "@dataclass\n",
        "class American:\n",
        "  # This Constructor and Likewise some other methods are automatically created by dataclass:\n",
        "  # def __init__(self, name, age, weight):\n",
        "  #    self.name = name\n",
        "  #    self.age = age\n",
        "  #     ......\n",
        "  name:str\n",
        "  age:int\n",
        "  weight:float\n",
        "  liked_food: str\n",
        "  national_language: ClassVar[str] = \"English\"\n",
        "  national_food: ClassVar[str] = \"Hamburger\"\n",
        "  normal_body_temperature: ClassVar[float] = 98.6\n",
        "\n",
        "\n",
        "  def speak(self):\n",
        "    return f\"{self.name} is speaking {American.national_language}\"\n",
        "\n",
        "  def eating(self):\n",
        "    return f\"{self.name} is eating {self.liked_food} and {American.national_food}!\"\n",
        "\n",
        "  @staticmethod\n",
        "  def country_language():\n",
        "    return American.national_language\n",
        "\n",
        "  @staticmethod\n",
        "  def country_food():\n",
        "    return American.national_food\n",
        "\n",
        "  @staticmethod\n",
        "  def body_temperature():\n",
        "    return American.normal_body_temperature"
      ],
      "metadata": {
        "id": "W30ibU_sJFKj"
      },
      "execution_count": 46,
      "outputs": []
    },
    {
      "cell_type": "markdown",
      "source": [
        "Your code is correct in terms of using the `@dataclass` decorator to automatically generate the constructor and other utility methods. Just make sure you have imported the `dataclass` from the `dataclasses` module, like this:\n",
        "\n",
        "```python\n",
        "from dataclasses import dataclass\n",
        "\n",
        "@dataclass\n",
        "class American:\n",
        "  name:str\n",
        "  age:int\n",
        "  weight:float\n",
        "  liked_food: str\n",
        "```\n",
        "\n",
        "This will automatically create an `__init__` method (along with methods such as `__repr__`, `__eq__`, etc.) that correctly assigns `name` and `age` to your instance."
      ],
      "metadata": {
        "id": "Qv8irTtmiz0k"
      }
    },
    {
      "cell_type": "code",
      "source": [
        "john = American(\"John\", 25, 70.5,\"Pizza\")\n",
        "# instance variable:\n",
        "print(john.speak())\n",
        "print(john.eating())\n",
        "\n",
        "# class variable:\n",
        "print(American.country_language())\n",
        "print(American.country_food())\n",
        "print(American.body_temperature())"
      ],
      "metadata": {
        "colab": {
          "base_uri": "https://localhost:8080/"
        },
        "id": "cFE3UVIjLqVB",
        "outputId": "edf6f6a6-85a3-4caa-e344-18f73ee00932"
      },
      "execution_count": 28,
      "outputs": [
        {
          "output_type": "stream",
          "name": "stdout",
          "text": [
            "John is speaking English\n",
            "John is eating Pizza and Hamburger!\n",
            "English\n",
            "Hamburger\n",
            "98.6\n"
          ]
        }
      ]
    },
    {
      "cell_type": "markdown",
      "source": [
        "# **2**. **Callable function:**  object tab callable hota hai jab us ke ander `__call__` ka function mojood ho, us object ko callable object kehte hai."
      ],
      "metadata": {
        "id": "5r4ktdPebIgr"
      }
    },
    {
      "cell_type": "code",
      "source": [
        "@dataclass\n",
        "class Human:\n",
        "  # This Constructor and Likewise some other methods are automatically created by dataclass:\n",
        "  # def __init__(self, name, age):\n",
        "  #    self.name = name\n",
        "  #    self.age = age\n",
        "\n",
        "  name: str\n",
        "  age: int\n",
        "\n",
        "  def greet(self):\n",
        "    return f\"Hi, I`m {self.name}\"\n",
        "\n",
        "  def works(self):\n",
        "    return f\"I am working in Islamabad!\"\n",
        "\n",
        "  def __call__(self):\n",
        "    return f\"{self.greet()} and {self.works()}\"\n"
      ],
      "metadata": {
        "id": "ObqKQfD3bRy9"
      },
      "execution_count": 37,
      "outputs": []
    },
    {
      "cell_type": "markdown",
      "source": [
        "Your code is correct in terms of using the `@dataclass` decorator to automatically generate the constructor and other utility methods. Just make sure you have imported the `dataclass` from the `dataclasses` module, like this:\n",
        "\n",
        "```python\n",
        "from dataclasses import dataclass\n",
        "\n",
        "@dataclass\n",
        "class Human:\n",
        "    name: str\n",
        "    age: int\n",
        "```\n",
        "\n",
        "This will automatically create an `__init__` method (along with methods such as `__repr__`, `__eq__`, etc.) that correctly assigns `name` and `age` to your instance."
      ],
      "metadata": {
        "id": "O8z57o5qic4C"
      }
    },
    {
      "cell_type": "code",
      "source": [
        "obj1 = Human(\"ZAIN\", 21)\n",
        "print(obj1.name)\n",
        "print(obj1.age)\n",
        "\n",
        "print(obj1.greet())\n",
        "print(obj1.works())"
      ],
      "metadata": {
        "colab": {
          "base_uri": "https://localhost:8080/"
        },
        "id": "t_c5WBGeb4fo",
        "outputId": "b2500b40-c55c-4cd4-b675-df3abf557f9e"
      },
      "execution_count": 38,
      "outputs": [
        {
          "output_type": "stream",
          "name": "stdout",
          "text": [
            "ZAIN\n",
            "21\n",
            "Hi, I`m ZAIN\n",
            "I am working in Islamabad!\n"
          ]
        }
      ]
    },
    {
      "cell_type": "code",
      "source": [
        "obj1()"
      ],
      "metadata": {
        "colab": {
          "base_uri": "https://localhost:8080/",
          "height": 35
        },
        "id": "y_tX25kRd4sK",
        "outputId": "c21936ae-231e-4162-ef06-0fdc82f93e52"
      },
      "execution_count": 39,
      "outputs": [
        {
          "output_type": "execute_result",
          "data": {
            "text/plain": [
              "'Hi, I`m ZAIN and I am working in Islamabad!'"
            ],
            "application/vnd.google.colaboratory.intrinsic+json": {
              "type": "string"
            }
          },
          "metadata": {},
          "execution_count": 39
        }
      ]
    },
    {
      "cell_type": "code",
      "source": [
        "dir(obj1)"
      ],
      "metadata": {
        "colab": {
          "base_uri": "https://localhost:8080/"
        },
        "id": "kzt9V4iOfZU1",
        "outputId": "e419cedf-4baf-4e38-fad4-784f98ec6744"
      },
      "execution_count": 40,
      "outputs": [
        {
          "output_type": "execute_result",
          "data": {
            "text/plain": [
              "['__annotations__',\n",
              " '__call__',\n",
              " '__class__',\n",
              " '__dataclass_fields__',\n",
              " '__dataclass_params__',\n",
              " '__delattr__',\n",
              " '__dict__',\n",
              " '__dir__',\n",
              " '__doc__',\n",
              " '__eq__',\n",
              " '__format__',\n",
              " '__ge__',\n",
              " '__getattribute__',\n",
              " '__getstate__',\n",
              " '__gt__',\n",
              " '__hash__',\n",
              " '__init__',\n",
              " '__init_subclass__',\n",
              " '__le__',\n",
              " '__lt__',\n",
              " '__match_args__',\n",
              " '__module__',\n",
              " '__ne__',\n",
              " '__new__',\n",
              " '__reduce__',\n",
              " '__reduce_ex__',\n",
              " '__repr__',\n",
              " '__setattr__',\n",
              " '__sizeof__',\n",
              " '__str__',\n",
              " '__subclasshook__',\n",
              " '__weakref__',\n",
              " 'age',\n",
              " 'greet',\n",
              " 'name',\n",
              " 'works']"
            ]
          },
          "metadata": {},
          "execution_count": 40
        }
      ]
    },
    {
      "cell_type": "code",
      "source": [
        "obj1.__dict__"
      ],
      "metadata": {
        "colab": {
          "base_uri": "https://localhost:8080/"
        },
        "id": "zQbX-Dd6fcCX",
        "outputId": "b457c454-4a1f-4b56-db0c-697ffc2ce022"
      },
      "execution_count": 41,
      "outputs": [
        {
          "output_type": "execute_result",
          "data": {
            "text/plain": [
              "{'name': 'ZAIN', 'age': 21}"
            ]
          },
          "metadata": {},
          "execution_count": 41
        }
      ]
    },
    {
      "cell_type": "code",
      "source": [
        "obj1.__annotations__"
      ],
      "metadata": {
        "colab": {
          "base_uri": "https://localhost:8080/"
        },
        "id": "yhom4O6DflEA",
        "outputId": "277f2b01-2b58-42b7-8d96-65f56b112130"
      },
      "execution_count": 43,
      "outputs": [
        {
          "output_type": "execute_result",
          "data": {
            "text/plain": [
              "{'name': str, 'age': int}"
            ]
          },
          "metadata": {},
          "execution_count": 43
        }
      ]
    },
    {
      "cell_type": "code",
      "source": [
        "obj1.__call__()"
      ],
      "metadata": {
        "colab": {
          "base_uri": "https://localhost:8080/",
          "height": 35
        },
        "id": "r2mZxEzif2JU",
        "outputId": "09737de0-5071-46fd-d46b-98bb033fc0ca"
      },
      "execution_count": 45,
      "outputs": [
        {
          "output_type": "execute_result",
          "data": {
            "text/plain": [
              "'Hi, I`m ZAIN and I am working in Islamabad!'"
            ],
            "application/vnd.google.colaboratory.intrinsic+json": {
              "type": "string"
            }
          },
          "metadata": {},
          "execution_count": 45
        }
      ]
    },
    {
      "cell_type": "markdown",
      "source": [
        "# **OpenAI-Agents SDK ki docs mien Agent ke ander ke instruction argument ke code ko samjhna**"
      ],
      "metadata": {
        "id": "vH-BCQfcog2c"
      }
    },
    {
      "cell_type": "code",
      "source": [
        "agent1 = Agent(\n",
        "    name=\"Assistant\",\n",
        "    instructions=\"You are a helpful AI assistant. For each query, decide if a tool is needed (e.g., for calculations or weather). If so, call the tool; otherwise, answer directly.\",\n",
        "    model=model,\n",
        ")"
      ],
      "metadata": {
        "id": "_zwO2rAEpJDf"
      },
      "execution_count": null,
      "outputs": []
    },
    {
      "cell_type": "markdown",
      "source": [
        "```python\n",
        "agent = Agent(\n",
        "    name=\"Assistant\",\n",
        "    instructions=\"You are a helpful AI assistant. For each query, decide if a tool is needed (e.g., for calculations or weather). If so, call the tool; otherwise, answer directly.\",\n",
        "    model=model,\n",
        ")\n",
        "```\n",
        "### **Upper Agent mien jo instruction variable hai us mein str bhi a sakhti hai aur Callable yani koe function bhi a sakhta hai dynamically aur MaybeAwaitable esi instruction jis ko thora time lag sakhta hai:**\n",
        "\n",
        "```python\n",
        "instructions: (\n",
        "    str\n",
        "    | Callable[\n",
        "        [RunContextWrapper[TContext], Agent[TContext]],\n",
        "        MaybeAwaitable[str],\n",
        "    ]\n",
        "    | None\n",
        ") = None\n",
        "\n",
        "```"
      ],
      "metadata": {
        "id": "vwVbLi0PpzNv"
      }
    },
    {
      "cell_type": "markdown",
      "source": [
        "## **OpenAI-Agents SDK ki docs mien Runner class ke ander jo bhi run wale methods hai wo static method yani class level methods hai kue ke wo direct class se call ho rhe hai. jese is code mien:**\n",
        "`.run_sync`\n",
        "\n",
        "```python\n",
        "  result = Runner.run_sync(\n",
        "    starting_agent=agent1,\n",
        "    input=userinput,\n",
        "    run_config=config\n",
        ")\n",
        "\n",
        "```\n",
        "\n",
        "## upper wale Runner ka jo result a rha hai us result ki class ki type dataclass hai:\n",
        "```python\n",
        "@dataclass\n",
        "class RunResultStreaming(RunResultBase):\n",
        "    \"\"\"The result of an agent run in streaming mode. You can use the `stream_events` method to\n",
        "    receive semantic events as they are generated.\n",
        "    \"\"\"\n",
        "\n",
        "```"
      ],
      "metadata": {
        "id": "iA5FGyPpmRD_"
      }
    },
    {
      "cell_type": "code",
      "source": [],
      "metadata": {
        "id": "tRzLFedurh3t"
      },
      "execution_count": null,
      "outputs": []
    }
  ]
}